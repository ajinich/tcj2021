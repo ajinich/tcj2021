{
  "nbformat": 4,
  "nbformat_minor": 0,
  "metadata": {
    "kernelspec": {
      "display_name": "Python 3",
      "language": "python",
      "name": "python3"
    },
    "language_info": {
      "codemirror_mode": {
        "name": "ipython",
        "version": 3
      },
      "file_extension": ".py",
      "mimetype": "text/x-python",
      "name": "python",
      "nbconvert_exporter": "python",
      "pygments_lexer": "ipython3",
      "version": "3.6.6"
    },
    "colab": {
      "name": "logFC_y_Zscores_students.ipynb",
      "provenance": []
    }
  },
  "cells": [
    {
      "cell_type": "markdown",
      "metadata": {
        "id": "4LrpRHmMJlTZ"
      },
      "source": [
        "# En este cuaderno de Python vamos a practicar un poco los \"log(fold-changes)\" (i.e. lfc) y los Z-scores\n",
        "\n",
        "\n",
        "Pueque esto parezca un poco abstracto (o que te haga pensar, \"por qué estamos haciendo esto?\") al principio.\n",
        "\n",
        "Pero recuerda que los datos que vamos a estar trabajando mañana expresan el efecto de las distintas moleculas/compuestos en términos de: \n",
        "\n",
        "\"log(fold-changes)\" del crecimiento de las bacterias mutantes en presencia de compuestos químicas respecto a las bacterias en medio de cultivo sin ningun \"drug compound\"\n"
      ]
    },
    {
      "cell_type": "markdown",
      "metadata": {
        "id": "ISO90MnKJlIE"
      },
      "source": [
        "### Comenzamos importando unas librerias. \n"
      ]
    },
    {
      "cell_type": "code",
      "metadata": {
        "id": "YnTUbe-TG5OU"
      },
      "source": [
        "\n",
        "import matplotlib.pyplot as plt # libreria de Python para hacer graficas. \n",
        "\n",
        "### [EJERCICIO]: \n",
        "# import dos librerias mas: \n",
        "# numpy (para cálculo numérico) --> llamala np\n",
        "# pandas (para analisis de datos con \"dataframes\") --> llamala pd\n",
        "\n",
        "\n",
        "###"
      ],
      "execution_count": 1,
      "outputs": []
    },
    {
      "cell_type": "markdown",
      "metadata": {
        "id": "xqiayRu4G5Oa"
      },
      "source": [
        "# Parte 1: log(fold-changes)"
      ]
    },
    {
      "cell_type": "markdown",
      "metadata": {
        "id": "b_7lDP_gG5Ob"
      },
      "source": [
        "### EJEMPLO 1: Diez estudiantes del TCJ 2025 contaron cuantas sentadillas podian hacer el 1er de enero (2025) y cuantas podian hacer el 1ero de Mayo (2025)\n",
        "\n",
        "En la celda de abajo (ya llenada) vamos a guardar lo datos en el formato arreglos (\"arrays\") de la liberia numpy (aqui llamada np). \n",
        "\n",
        "Piensa en los arrays como vectores (o simplemente listas de numeros, que puedes manipular con calculo numerico)"
      ]
    },
    {
      "cell_type": "code",
      "metadata": {
        "id": "CCKroooIG5Ob"
      },
      "source": [
        "# numero de sentadillas el 1ero de enero\n",
        "num_enero = np.array([5, 2, 9, 4, 6, 8, 1, 5, 6, 12])\n",
        "\n",
        "# numero de sentadillas el 1ero de Mayo\n",
        "num_mayo = np.array([10, 8, 4.5, 32, 6, 12, 1, 50, 1, 14])"
      ],
      "execution_count": null,
      "outputs": []
    },
    {
      "cell_type": "markdown",
      "metadata": {
        "id": "PWY4I5ygG5Oc"
      },
      "source": [
        "### Cual es el *fold-change* para cada estudiante? \n",
        "\n",
        "En Python puedes hacer aritmetica con numeros (e.g. 4/2 = 2)\n",
        "\n",
        "Pero tambien puedes hacer manipulaciones de arreglos.\n",
        "\n",
        "Divide los datos de Mayo entre los datos de Enero para sacar la tasa de cambio (\"fold-change\")"
      ]
    },
    {
      "cell_type": "code",
      "metadata": {
        "id": "8tiJIfyCG5Oc"
      },
      "source": [
        "### [EJERCICIO]: \n",
        "# Crea una variable llamada fc que sea\n",
        "# los datos de Mayo entre los datos de Enero, \n",
        "# i.e. la tasa de cambio (\"fold-change\") \n",
        "# Despues imprime tu resultado (fc)\n",
        "\n",
        "\n",
        "\n",
        "###"
      ],
      "execution_count": null,
      "outputs": []
    },
    {
      "cell_type": "markdown",
      "metadata": {
        "id": "MYwMe7weG5Oc"
      },
      "source": [
        "### Cual es el *fold-change* para cada estudiante en escala logaritmica (base 2)? "
      ]
    },
    {
      "cell_type": "code",
      "metadata": {
        "id": "oT5TaNdJG5Od"
      },
      "source": [
        "### [EJERCICIO]: \n",
        "# Usa la funcion log2() de numpy (np)\n",
        "# para calcular el logaritmo base-2 de fc \n",
        "# Guarda el resultado en una variable (puedes llamarla l2fc)\n",
        "# Imprime l2fc\n",
        "\n",
        "\n",
        "\n",
        "###"
      ],
      "execution_count": null,
      "outputs": []
    },
    {
      "cell_type": "markdown",
      "metadata": {
        "id": "xloPxS--G5Od"
      },
      "source": [
        "## Ejemplo 2: \n",
        "### En su articulo en la revista Nature, Johnson et al. midieron: \n",
        "\n",
        "1. cuantas bacterias crecieron en el medio de cultivo \"normal\" (sin ningún antibiótico) i.e. condición control\n",
        "2. cuantas bacterias crecieron en el medio de cultivo + 10 distintos antibioticos:"
      ]
    },
    {
      "cell_type": "code",
      "metadata": {
        "id": "MUS2S_4BG5Od"
      },
      "source": [
        "# Num. de bacterias en la condicion control\n",
        "bacterias_control = np.array([100, 100, 100, 100, 100, 100, 100, 100, 100, 100])\n",
        "\n",
        "# Num. de bacterias cuando se agrega un antibiotico \n",
        "# i.e. 10 antibioticos distintos, se agrega uno a la vez.  \n",
        "bacterias_abx = np.array([30, 100, 50, 10, 99, 30, 30, 25, 12.5, 1])"
      ],
      "execution_count": 2,
      "outputs": []
    },
    {
      "cell_type": "markdown",
      "metadata": {
        "id": "4jGC_1zJG5Oe"
      },
      "source": [
        "1. Cual es el *fold-change* en el numero de bacterias que crecieron en cada condicion? "
      ]
    },
    {
      "cell_type": "code",
      "metadata": {
        "id": "siCSyS8XG5Oe"
      },
      "source": [
        "### [EJERCICIO]: \n",
        "\n",
        "\n",
        "###\n"
      ],
      "execution_count": null,
      "outputs": []
    },
    {
      "cell_type": "markdown",
      "metadata": {
        "id": "SXShNgZcG5Oe"
      },
      "source": [
        "2. Cual es el *fold-change* en escala logaritmica base-2 en el numero de bacterias que crecieron en cada condicion? "
      ]
    },
    {
      "cell_type": "code",
      "metadata": {
        "id": "4zhUk2QlG5Of"
      },
      "source": [
        ""
      ],
      "execution_count": null,
      "outputs": []
    },
    {
      "cell_type": "markdown",
      "metadata": {
        "id": "myRjYvm_G5Of"
      },
      "source": [
        "# Z-scores: \n",
        "\n",
        "En los datos de Johnson et al. que vamos a usar mañana, hay una columna de datos llamada \"Z-scores\". \n",
        "\n",
        "El objetivo de este ejercicio es para entender cómo se calcula el Z-score de un vector de datos. "
      ]
    },
    {
      "cell_type": "code",
      "metadata": {
        "id": "_6EyP0AvG5Of",
        "outputId": "604b4bd7-b164-46c4-f0e0-c14d88f51b7c"
      },
      "source": [
        "valores_1 = np.random.normal(35, 15, 200)\n",
        "valores_1[:10]"
      ],
      "execution_count": null,
      "outputs": [
        {
          "output_type": "execute_result",
          "data": {
            "text/plain": [
              "array([57.17498767, 46.28317191, 34.61203136, 42.03534827, 30.94128063,\n",
              "       38.00620593, 24.28844507, 19.8781479 , 34.20470749, 35.54573281])"
            ]
          },
          "metadata": {
            "tags": []
          },
          "execution_count": 22
        }
      ]
    },
    {
      "cell_type": "code",
      "metadata": {
        "id": "PhA9SCbfG5Of",
        "outputId": "8da56227-23ef-41b7-92e5-08a0b015adb6"
      },
      "source": [
        "valores_2 = np.random.normal(300, 100, 200)\n",
        "valores_2[:10]"
      ],
      "execution_count": null,
      "outputs": [
        {
          "output_type": "execute_result",
          "data": {
            "text/plain": [
              "array([183.95003662, 300.52954256, 308.92393807, 525.84482367,\n",
              "       370.09281008, 243.60927276, 266.35350094, 302.41939552,\n",
              "       402.12818665, 484.36476894])"
            ]
          },
          "metadata": {
            "tags": []
          },
          "execution_count": 41
        }
      ]
    },
    {
      "cell_type": "code",
      "metadata": {
        "id": "OEYMYlQGG5Og",
        "outputId": "9bfe1012-0d4c-41bf-ae03-54e7aa0e0055"
      },
      "source": [
        "hst1 = plt.hist(valores_1, 30)\n",
        "plt.xlabel('')\n",
        "plt.ylabel('')"
      ],
      "execution_count": null,
      "outputs": [
        {
          "output_type": "display_data",
          "data": {
            "image/png": "[encoded data removed]",
            "text/plain": [
              "<Figure size 432x288 with 1 Axes>"
            ]
          },
          "metadata": {
            "tags": [],
            "needs_background": "light"
          }
        }
      ]
    },
    {
      "cell_type": "code",
      "metadata": {
        "id": "dW9sBWQfG5Og",
        "outputId": "a9c9aeb6-7213-4353-cffd-038cf7b46dbc"
      },
      "source": [
        "hst2 = plt.hist(valores_2, 30)\n",
        "plt.xlabel('')\n",
        "plt.ylabel('')"
      ],
      "execution_count": null,
      "outputs": [
        {
          "output_type": "display_data",
          "data": {
            "image/png": "[encoded data removed]",
            "text/plain": [
              "<Figure size 432x288 with 1 Axes>"
            ]
          },
          "metadata": {
            "tags": [],
            "needs_background": "light"
          }
        }
      ]
    },
    {
      "cell_type": "code",
      "metadata": {
        "id": "0Zz8NuA4G5Oh"
      },
      "source": [
        "val1_Z = (valores_1 - np.mean(valores_1)) / np.std(valores_1)"
      ],
      "execution_count": null,
      "outputs": []
    },
    {
      "cell_type": "code",
      "metadata": {
        "id": "QC9IaxF0G5Oh",
        "outputId": "5e004107-fb18-4da6-ea6c-a40ba2b4f96a"
      },
      "source": [
        "hst = plt.hist(val1_Z, 30)"
      ],
      "execution_count": null,
      "outputs": [
        {
          "output_type": "display_data",
          "data": {
            "image/png": "[encoded data removed]",
            "text/plain": [
              "<Figure size 432x288 with 1 Axes>"
            ]
          },
          "metadata": {
            "tags": [],
            "needs_background": "light"
          }
        }
      ]
    },
    {
      "cell_type": "markdown",
      "metadata": {
        "id": "hkVVMmYDG5Oh"
      },
      "source": [
        "## EXTRA: Vamos a ordernar un poquito más nuestros datos, poniendolos en formato \"dataframe\" de la libería Pandas. "
      ]
    },
    {
      "cell_type": "code",
      "metadata": {
        "id": "5fx-v1vZG5Oh"
      },
      "source": [
        "# \n",
        "df = pd.DataFrame()\n",
        "df['valores_1'] = valores_1\n",
        "df['Z-scores_1'] = (valores_1 - np.mean(valores_1)) / np.std(valores_1)\n",
        "\n",
        "#\n",
        "df['valores_2'] = valores_2\n",
        "df['Z-scores_2'] = (valores_2 - np.mean(valores_2)) / np.std(valores_2)\n"
      ],
      "execution_count": null,
      "outputs": []
    },
    {
      "cell_type": "code",
      "metadata": {
        "id": "iX3walcaG5Oh",
        "outputId": "59c05ca8-8515-43cc-dc21-520f2ad3dfdd"
      },
      "source": [
        "df"
      ],
      "execution_count": null,
      "outputs": [
        {
          "output_type": "execute_result",
          "data": {
            "text/html": [
              "<div>\n",
              "<style scoped>\n",
              "    .dataframe tbody tr th:only-of-type {\n",
              "        vertical-align: middle;\n",
              "    }\n",
              "\n",
              "    .dataframe tbody tr th {\n",
              "        vertical-align: top;\n",
              "    }\n",
              "\n",
              "    .dataframe thead th {\n",
              "        text-align: right;\n",
              "    }\n",
              "</style>\n",
              "<table border=\"1\" class=\"dataframe\">\n",
              "  <thead>\n",
              "    <tr style=\"text-align: right;\">\n",
              "      <th></th>\n",
              "      <th>valores_1</th>\n",
              "      <th>Z-scores_1</th>\n",
              "      <th>valores_2</th>\n",
              "      <th>Z-scores_2</th>\n",
              "    </tr>\n",
              "  </thead>\n",
              "  <tbody>\n",
              "    <tr>\n",
              "      <th>0</th>\n",
              "      <td>57.174988</td>\n",
              "      <td>1.461821</td>\n",
              "      <td>183.950037</td>\n",
              "      <td>-1.193447</td>\n",
              "    </tr>\n",
              "    <tr>\n",
              "      <th>1</th>\n",
              "      <td>46.283172</td>\n",
              "      <td>0.757584</td>\n",
              "      <td>300.529543</td>\n",
              "      <td>-0.074109</td>\n",
              "    </tr>\n",
              "    <tr>\n",
              "      <th>2</th>\n",
              "      <td>34.612031</td>\n",
              "      <td>0.002957</td>\n",
              "      <td>308.923938</td>\n",
              "      <td>0.006490</td>\n",
              "    </tr>\n",
              "    <tr>\n",
              "      <th>3</th>\n",
              "      <td>42.035348</td>\n",
              "      <td>0.482930</td>\n",
              "      <td>525.844824</td>\n",
              "      <td>2.089255</td>\n",
              "    </tr>\n",
              "    <tr>\n",
              "      <th>4</th>\n",
              "      <td>30.941281</td>\n",
              "      <td>-0.234385</td>\n",
              "      <td>370.092810</td>\n",
              "      <td>0.593802</td>\n",
              "    </tr>\n",
              "    <tr>\n",
              "      <th>...</th>\n",
              "      <td>...</td>\n",
              "      <td>...</td>\n",
              "      <td>...</td>\n",
              "      <td>...</td>\n",
              "    </tr>\n",
              "    <tr>\n",
              "      <th>195</th>\n",
              "      <td>36.957731</td>\n",
              "      <td>0.154624</td>\n",
              "      <td>338.989828</td>\n",
              "      <td>0.295167</td>\n",
              "    </tr>\n",
              "    <tr>\n",
              "      <th>196</th>\n",
              "      <td>45.042800</td>\n",
              "      <td>0.677384</td>\n",
              "      <td>171.297121</td>\n",
              "      <td>-1.314934</td>\n",
              "    </tr>\n",
              "    <tr>\n",
              "      <th>197</th>\n",
              "      <td>23.730713</td>\n",
              "      <td>-0.700602</td>\n",
              "      <td>174.709137</td>\n",
              "      <td>-1.282174</td>\n",
              "    </tr>\n",
              "    <tr>\n",
              "      <th>198</th>\n",
              "      <td>20.397265</td>\n",
              "      <td>-0.916134</td>\n",
              "      <td>299.795459</td>\n",
              "      <td>-0.081158</td>\n",
              "    </tr>\n",
              "    <tr>\n",
              "      <th>199</th>\n",
              "      <td>9.963770</td>\n",
              "      <td>-1.590738</td>\n",
              "      <td>219.724511</td>\n",
              "      <td>-0.849959</td>\n",
              "    </tr>\n",
              "  </tbody>\n",
              "</table>\n",
              "<p>200 rows × 4 columns</p>\n",
              "</div>"
            ],
            "text/plain": [
              "     valores_1  Z-scores_1   valores_2  Z-scores_2\n",
              "0    57.174988    1.461821  183.950037   -1.193447\n",
              "1    46.283172    0.757584  300.529543   -0.074109\n",
              "2    34.612031    0.002957  308.923938    0.006490\n",
              "3    42.035348    0.482930  525.844824    2.089255\n",
              "4    30.941281   -0.234385  370.092810    0.593802\n",
              "..         ...         ...         ...         ...\n",
              "195  36.957731    0.154624  338.989828    0.295167\n",
              "196  45.042800    0.677384  171.297121   -1.314934\n",
              "197  23.730713   -0.700602  174.709137   -1.282174\n",
              "198  20.397265   -0.916134  299.795459   -0.081158\n",
              "199   9.963770   -1.590738  219.724511   -0.849959\n",
              "\n",
              "[200 rows x 4 columns]"
            ]
          },
          "metadata": {
            "tags": []
          },
          "execution_count": 46
        }
      ]
    },
    {
      "cell_type": "markdown",
      "metadata": {
        "id": "xqCt-3ixG5Oi"
      },
      "source": [
        "## Ejercicio Z-scores: "
      ]
    },
    {
      "cell_type": "markdown",
      "metadata": {
        "id": "OGYC4Z2aG5Oi"
      },
      "source": [
        "En el 2020, el año de la pandemia, Juanito comió hamburguesas con papas a la francesa **TODOS** los dias. \n",
        "\n",
        "Cada dia Juanito apuntó en su diario el número de papas se comió ese dia. \n"
      ]
    },
    {
      "cell_type": "markdown",
      "metadata": {
        "id": "P0PwS6OAG5Oi"
      },
      "source": [
        "Estos son los datos de Juanito"
      ]
    },
    {
      "cell_type": "code",
      "metadata": {
        "id": "uyh4R7abG5Oi"
      },
      "source": [
        "papas_2020 = np.random.normal(400, 30, 365)\n",
        "papas_2020 = [int(p) for p in papas_2020] # Esto es un pequ~o truco para convertir a numeros enteros. No importante ahora. "
      ],
      "execution_count": null,
      "outputs": []
    },
    {
      "cell_type": "markdown",
      "metadata": {
        "id": "X_lG98R_G5Oi"
      },
      "source": [
        "1. Grafica el histograma (la distribucion) del numero de papas que comio Juanito en 2020: "
      ]
    },
    {
      "cell_type": "code",
      "metadata": {
        "id": "URozjNEcG5Oj"
      },
      "source": [
        ""
      ],
      "execution_count": null,
      "outputs": []
    },
    {
      "cell_type": "markdown",
      "metadata": {
        "id": "CLPDBzldG5Oj"
      },
      "source": [
        "2. Cuantas papas comio en promedio cada dia en 2020? Cual es la desviacion estandar de esta distribucion? "
      ]
    },
    {
      "cell_type": "code",
      "metadata": {
        "id": "tA4JDH4bG5Oj"
      },
      "source": [
        ""
      ],
      "execution_count": null,
      "outputs": []
    },
    {
      "cell_type": "markdown",
      "metadata": {
        "id": "FqEIA6T5G5Oj"
      },
      "source": [
        "3. Convierte estos datos a un \"z-score\" (es decir, normaliza los datos de Juanito!)"
      ]
    },
    {
      "cell_type": "code",
      "metadata": {
        "id": "HrAaJU5pG5Oj"
      },
      "source": [
        ""
      ],
      "execution_count": null,
      "outputs": []
    },
    {
      "cell_type": "markdown",
      "metadata": {
        "id": "ANWtvJv8G5Oj"
      },
      "source": [
        "4. Guarda estos datos (papas_2020 y los datos normalizados / el z-score) en un \"pandas dataframe\""
      ]
    },
    {
      "cell_type": "code",
      "metadata": {
        "id": "epEDUr-uG5Ok"
      },
      "source": [
        ""
      ],
      "execution_count": null,
      "outputs": []
    }
  ]
}