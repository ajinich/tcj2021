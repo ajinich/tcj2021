{
  "nbformat": 4,
  "nbformat_minor": 0,
  "metadata": {
    "kernelspec": {
      "display_name": "Python 3",
      "language": "python",
      "name": "python3"
    },
    "language_info": {
      "codemirror_mode": {
        "name": "ipython",
        "version": 3
      },
      "file_extension": ".py",
      "mimetype": "text/x-python",
      "name": "python",
      "nbconvert_exporter": "python",
      "pygments_lexer": "ipython3",
      "version": "3.6.6"
    },
    "colab": {
      "name": "logFC_y_Zscores_students.ipynb",
      "provenance": [],
      "toc_visible": true
    }
  },
  "cells": [
    {
      "cell_type": "code",
      "metadata": {
        "id": "HGLD4BeZgAUf"
      },
      "source": [
        "!wget https://raw.githubusercontent.com/beangoben/workshop_template/master/colab_utils.py -O colab_utils.py\n",
        "!rm -rf sample_data\n",
        "import colab_utils\n",
        "\n",
        "github_repo = 'https://github.com/ajinich/tcj_2021_data'\n",
        "colab_utils.clone_repo(github_repo)"
      ],
      "execution_count": null,
      "outputs": []
    },
    {
      "cell_type": "markdown",
      "metadata": {
        "id": "4LrpRHmMJlTZ"
      },
      "source": [
        "# En este cuaderno de Python vamos a practicar un poco los \"log(fold-changes)\" (i.e. lfc) y los Z-scores\n",
        "\n",
        "\n",
        "Pueque esto parezca un poco abstracto (o que te haga pensar, \"por qué estamos haciendo esto?\") al principio.\n",
        "\n",
        "Pero recuerda que los datos que vamos a estar trabajando mañana expresan el efecto de las distintas moleculas/compuestos en términos de: \n",
        "\n",
        "\"log(fold-changes)\" del crecimiento de las bacterias mutantes en presencia de compuestos químicas respecto a las bacterias en medio de cultivo sin ningun \"drug compound\"\n"
      ]
    },
    {
      "cell_type": "markdown",
      "metadata": {
        "id": "ISO90MnKJlIE"
      },
      "source": [
        "### Comenzamos importando unas librerias. \n"
      ]
    },
    {
      "cell_type": "code",
      "metadata": {
        "id": "YnTUbe-TG5OU"
      },
      "source": [
        "\n",
        "import matplotlib.pyplot as plt # libreria de Python para hacer graficas. \n",
        "from IPython.display import Image\n",
        "\n",
        "### [EJERCICIO]: \n",
        "# import dos librerias mas: \n",
        "# numpy (para cálculo numérico) --> llamala np\n",
        "# pandas (para analisis de datos con \"dataframes\") --> llamala pd\n",
        "\n",
        "\n",
        "\n",
        "###"
      ],
      "execution_count": 19,
      "outputs": []
    },
    {
      "cell_type": "markdown",
      "metadata": {
        "id": "xqiayRu4G5Oa"
      },
      "source": [
        "# Parte 1: log(fold-changes)"
      ]
    },
    {
      "cell_type": "markdown",
      "metadata": {
        "id": "b_7lDP_gG5Ob"
      },
      "source": [
        "### EJEMPLO 1: Diez estudiantes del TCJ 2025 contaron cuantas sentadillas podian hacer el 1er de enero (2025) y cuantas podian hacer el 1ero de Mayo (2025)\n",
        "\n",
        "En la celda de abajo (ya llenada) vamos a guardar lo datos en el formato arreglos (\"arrays\") de la liberia numpy (aqui llamada np). \n",
        "\n",
        "Piensa en los arrays como vectores (o simplemente listas de numeros, que puedes manipular con calculo numerico)"
      ]
    },
    {
      "cell_type": "code",
      "metadata": {
        "id": "CCKroooIG5Ob"
      },
      "source": [
        "# numero de sentadillas el 1ero de enero\n",
        "num_enero = np.array([5, 2, 9, 4, 6, 8, 1, 5, 6, 12])\n",
        "\n",
        "# numero de sentadillas el 1ero de Mayo\n",
        "num_mayo = np.array([10, 8, 4.5, 32, 6, 12, 1, 50, 1, 14])"
      ],
      "execution_count": null,
      "outputs": []
    },
    {
      "cell_type": "markdown",
      "metadata": {
        "id": "PWY4I5ygG5Oc"
      },
      "source": [
        "### Cual es el *fold-change* para cada estudiante? \n",
        "\n",
        "En Python puedes hacer aritmetica con numeros (e.g. 4/2 = 2)\n",
        "\n",
        "Pero tambien puedes hacer manipulaciones de arreglos.\n",
        "\n",
        "Divide los datos de Mayo entre los datos de Enero para sacar la tasa de cambio (\"fold-change\")"
      ]
    },
    {
      "cell_type": "code",
      "metadata": {
        "id": "8tiJIfyCG5Oc"
      },
      "source": [
        "### [EJERCICIO]: \n",
        "# Crea una variable llamada fc que contenga \n",
        "# el cociente de los datos de Mayo entre los datos de Enero, \n",
        "# i.e. la tasa de cambio (\"fold-change\") \n",
        "# Despues imprime tu resultado (fc)\n",
        "\n",
        "\n",
        "\n",
        "###"
      ],
      "execution_count": null,
      "outputs": []
    },
    {
      "cell_type": "markdown",
      "metadata": {
        "id": "MYwMe7weG5Oc"
      },
      "source": [
        "### Cual es el *fold-change* para cada estudiante en escala logaritmica (base 2)? "
      ]
    },
    {
      "cell_type": "code",
      "metadata": {
        "id": "oT5TaNdJG5Od"
      },
      "source": [
        "### [EJERCICIO]: \n",
        "# Usa la funcion log2() de numpy (np)\n",
        "# para calcular el logaritmo base-2 de fc \n",
        "# Guarda el resultado en una variable (puedes llamarla l2fc)\n",
        "# Imprime l2fc\n",
        "\n",
        "\n",
        "\n",
        "###"
      ],
      "execution_count": null,
      "outputs": []
    },
    {
      "cell_type": "markdown",
      "metadata": {
        "id": "xloPxS--G5Od"
      },
      "source": [
        "## Ejemplo 2: \n",
        "### En su articulo en la revista Nature, Johnson et al. midieron: \n",
        "\n",
        "1. cuantas bacterias crecieron en el medio de cultivo \"normal\" (sin ningún antibiótico) i.e. condición control\n",
        "2. cuantas bacterias crecieron en el medio de cultivo + 10 distintos antibioticos:"
      ]
    },
    {
      "cell_type": "code",
      "metadata": {
        "id": "MUS2S_4BG5Od"
      },
      "source": [
        "# Num. de bacterias en la condicion control\n",
        "bacterias_control = np.array([100, 100, 100, 100, 100, 100, 100, 100, 100, 100])\n",
        "\n",
        "# Num. de bacterias cuando se agrega un antibiotico \n",
        "# i.e. 10 antibioticos distintos, se agrega uno a la vez.  \n",
        "bacterias_abx = np.array([30, 100, 50, 10, 99, 30, 30, 25, 12.5, 1])"
      ],
      "execution_count": 2,
      "outputs": []
    },
    {
      "cell_type": "markdown",
      "metadata": {
        "id": "4jGC_1zJG5Oe"
      },
      "source": [
        "1. Cual es el *fold-change* en el numero de bacterias que crecieron en cada condicion? "
      ]
    },
    {
      "cell_type": "code",
      "metadata": {
        "id": "siCSyS8XG5Oe"
      },
      "source": [
        "### [EJERCICIO]: \n",
        "# crea una variable fc que contenga\n",
        "# el cociente de numero de bacterias que crecieron con antibiotico \n",
        "# entre el numero de bacterias que crecieron sin antibiotico \n",
        "# imprime tu resultado\n",
        "\n",
        "\n",
        "###\n"
      ],
      "execution_count": null,
      "outputs": []
    },
    {
      "cell_type": "markdown",
      "metadata": {
        "id": "SXShNgZcG5Oe"
      },
      "source": [
        "2. Cual es el *fold-change* en escala logaritmica base-2 en el numero de bacterias que crecieron en cada condicion? "
      ]
    },
    {
      "cell_type": "code",
      "metadata": {
        "id": "4zhUk2QlG5Of"
      },
      "source": [
        "### [EJERCICIO]: \n",
        "# usa la funcion np.log2() para calcular el logaritmo base-2 \n",
        "# del fold-change (fc) que calculaste arriva. \n",
        "# imprime tu resultado\n",
        "\n",
        "###"
      ],
      "execution_count": null,
      "outputs": []
    },
    {
      "cell_type": "markdown",
      "metadata": {
        "id": "myRjYvm_G5Of"
      },
      "source": [
        "# Z-scores: \n",
        "\n",
        "En los datos de Johnson et al. que vamos a usar mañana, hay una columna de datos llamada \"Z-scores\". \n",
        "\n",
        "Lo que quiero es que mañana que veamos los datos reales, sea menos misteriosa la columna Z-score\n",
        "\n",
        "El objetivo de este ejercicio es para entender cómo se calcula el Z-score de un vector de datos.\n",
        "\n",
        "Y tambien es una buena excusa para seguir practicando programacion en Python. "
      ]
    },
    {
      "cell_type": "markdown",
      "metadata": {
        "id": "hT5JoyqUcrg1"
      },
      "source": [
        "Primero vamos a generar un vector de datos con una distribución \"normal\", \n",
        "Con promedio / media = 35 \n",
        "Y desviación estándar = 15\n",
        "\n",
        "Si necesitas recordar que es la media y la desviación estándar, va esta imagen:\n",
        " \n"
      ]
    },
    {
      "cell_type": "code",
      "metadata": {
        "id": "8bAOLBA4dXMV"
      },
      "source": [
        "# corre este comando: \n",
        "Image('./mean_std.jpg')"
      ],
      "execution_count": null,
      "outputs": []
    },
    {
      "cell_type": "code",
      "metadata": {
        "id": "_6EyP0AvG5Of"
      },
      "source": [
        "### [EJERCICIO]\n",
        "# usa la funcion np.random.normal()\n",
        "# para generar 400 valores con media 35 y desviacion std 15\n",
        "# guarda los datos en una variable llamada valores_1\n",
        "\n",
        "\n",
        "###"
      ],
      "execution_count": 7,
      "outputs": []
    },
    {
      "cell_type": "markdown",
      "metadata": {
        "id": "3-OOfk6_iExi"
      },
      "source": [
        "### Como graficar un histograma en Python:\n"
      ]
    },
    {
      "cell_type": "code",
      "metadata": {
        "id": "OEYMYlQGG5Og"
      },
      "source": [
        "plt.figure(figsize = (8, 6))\n",
        "\n",
        "### [EJERCICIO]\n",
        "# Usa la funcion plt.hist() para hacer un \n",
        "# histograma de los valores que generaste\n",
        "\n",
        "###\n",
        "\n",
        "# Aca estoy inventando lo que son los datos. \n",
        "# Pero siempre hay que etiquetar nuestros ejes-X y ejes-Y\n",
        "plt.xlabel('peso molecular', fontsize = 16)\n",
        "plt.ylabel('numero de moleculas\\ncon ese peso molecular', fontsize = 16)"
      ],
      "execution_count": null,
      "outputs": []
    },
    {
      "cell_type": "markdown",
      "metadata": {
        "id": "Hhka6soXhU2R"
      },
      "source": [
        "## Ahora vamos a \"transformar\" o \"normalizar\" los datos  a \"Z-scores\" haciendo dos cosas: \n",
        "\n",
        "1. A cada dato le vamos a restar la media de todos los datos\n",
        "2. Vamos a dividir todo entre la desviacion estandar de los datos. \n",
        "\n"
      ]
    },
    {
      "cell_type": "code",
      "metadata": {
        "id": "0Zz8NuA4G5Oh"
      },
      "source": [
        "### [EJERCICIO]\n",
        "# 1. usa la funcion np.mean() para calcular la media de  valores_1\n",
        "# guarda el valor en una variable llamada media\n",
        "\n",
        "\n",
        "# 2. usa la funcion np.std() para calcular la desv. estandar de valores_1\n",
        "# guarda el valor en una variable llamada std\n",
        "\n",
        "\n",
        "###\n",
        "\n",
        "Z_scores = (valores_1 - media) / std "
      ],
      "execution_count": 13,
      "outputs": []
    },
    {
      "cell_type": "markdown",
      "metadata": {
        "id": "PQqSv2QZkFwE"
      },
      "source": [
        "Y ahora vamos a graficar el histograma de los valores Z. \n",
        "Como se compara con el histograma de los valores originales? \n"
      ]
    },
    {
      "cell_type": "code",
      "metadata": {
        "id": "QC9IaxF0G5Oh",
        "colab": {
          "base_uri": "https://localhost:8080/",
          "height": 411
        },
        "outputId": "6f5580aa-0313-425d-be86-1a0002943f60"
      },
      "source": [
        "plt.figure(figsize = (8, 6))\n",
        "\n",
        "plt.hist(Z_scores, 30)\n",
        "plt.xlabel('Z-scores', fontsize = 16)\n",
        "plt.ylabel('numero de datos con ese Z-score', fontsize = 16)"
      ],
      "execution_count": 15,
      "outputs": [
        {
          "output_type": "execute_result",
          "data": {
            "text/plain": [
              "Text(0, 0.5, 'numero de datos con ese Z-score')"
            ]
          },
          "metadata": {
            "tags": []
          },
          "execution_count": 15
        },
        {
          "output_type": "display_data",
          "data": {
            "image/png": "[encoded data removed]",
            "text/plain": [
              "<Figure size 576x432 with 1 Axes>"
            ]
          },
          "metadata": {
            "tags": [],
            "needs_background": "light"
          }
        }
      ]
    },
    {
      "cell_type": "markdown",
      "metadata": {
        "id": "hkVVMmYDG5Oh"
      },
      "source": [
        "## EXTRA: Vamos a ordernar un poquito más nuestros datos, poniendolos en formato \"dataframe\" de la libería Pandas. "
      ]
    },
    {
      "cell_type": "code",
      "metadata": {
        "id": "5fx-v1vZG5Oh"
      },
      "source": [
        "# Vamos a trabajar mucho con el formato \"dataframes\" de Pandas\n",
        "# Hay que agarrar practica usandolas\n",
        "df = pd.DataFrame()\n",
        "df['valores_1'] = valores_1\n",
        "df['Z-scores'] = Z_scores"
      ],
      "execution_count": 20,
      "outputs": []
    },
    {
      "cell_type": "code",
      "metadata": {
        "id": "iX3walcaG5Oh",
        "colab": {
          "base_uri": "https://localhost:8080/",
          "height": 406
        },
        "outputId": "2c41448e-679a-4f86-9a25-10a5f662c259"
      },
      "source": [
        "df"
      ],
      "execution_count": 21,
      "outputs": [
        {
          "output_type": "execute_result",
          "data": {
            "text/html": [
              "<div>\n",
              "<style scoped>\n",
              "    .dataframe tbody tr th:only-of-type {\n",
              "        vertical-align: middle;\n",
              "    }\n",
              "\n",
              "    .dataframe tbody tr th {\n",
              "        vertical-align: top;\n",
              "    }\n",
              "\n",
              "    .dataframe thead th {\n",
              "        text-align: right;\n",
              "    }\n",
              "</style>\n",
              "<table border=\"1\" class=\"dataframe\">\n",
              "  <thead>\n",
              "    <tr style=\"text-align: right;\">\n",
              "      <th></th>\n",
              "      <th>valores_1</th>\n",
              "      <th>Z-scores</th>\n",
              "    </tr>\n",
              "  </thead>\n",
              "  <tbody>\n",
              "    <tr>\n",
              "      <th>0</th>\n",
              "      <td>57.645082</td>\n",
              "      <td>1.445870</td>\n",
              "    </tr>\n",
              "    <tr>\n",
              "      <th>1</th>\n",
              "      <td>10.175790</td>\n",
              "      <td>-1.501838</td>\n",
              "    </tr>\n",
              "    <tr>\n",
              "      <th>2</th>\n",
              "      <td>68.888474</td>\n",
              "      <td>2.144052</td>\n",
              "    </tr>\n",
              "    <tr>\n",
              "      <th>3</th>\n",
              "      <td>59.139151</td>\n",
              "      <td>1.538647</td>\n",
              "    </tr>\n",
              "    <tr>\n",
              "      <th>4</th>\n",
              "      <td>17.594801</td>\n",
              "      <td>-1.041139</td>\n",
              "    </tr>\n",
              "    <tr>\n",
              "      <th>...</th>\n",
              "      <td>...</td>\n",
              "      <td>...</td>\n",
              "    </tr>\n",
              "    <tr>\n",
              "      <th>395</th>\n",
              "      <td>32.335806</td>\n",
              "      <td>-0.125765</td>\n",
              "    </tr>\n",
              "    <tr>\n",
              "      <th>396</th>\n",
              "      <td>54.758300</td>\n",
              "      <td>1.266609</td>\n",
              "    </tr>\n",
              "    <tr>\n",
              "      <th>397</th>\n",
              "      <td>-6.568266</td>\n",
              "      <td>-2.541597</td>\n",
              "    </tr>\n",
              "    <tr>\n",
              "      <th>398</th>\n",
              "      <td>35.498712</td>\n",
              "      <td>0.070643</td>\n",
              "    </tr>\n",
              "    <tr>\n",
              "      <th>399</th>\n",
              "      <td>24.026058</td>\n",
              "      <td>-0.641776</td>\n",
              "    </tr>\n",
              "  </tbody>\n",
              "</table>\n",
              "<p>400 rows × 2 columns</p>\n",
              "</div>"
            ],
            "text/plain": [
              "     valores_1  Z-scores\n",
              "0    57.645082  1.445870\n",
              "1    10.175790 -1.501838\n",
              "2    68.888474  2.144052\n",
              "3    59.139151  1.538647\n",
              "4    17.594801 -1.041139\n",
              "..         ...       ...\n",
              "395  32.335806 -0.125765\n",
              "396  54.758300  1.266609\n",
              "397  -6.568266 -2.541597\n",
              "398  35.498712  0.070643\n",
              "399  24.026058 -0.641776\n",
              "\n",
              "[400 rows x 2 columns]"
            ]
          },
          "metadata": {
            "tags": []
          },
          "execution_count": 21
        }
      ]
    },
    {
      "cell_type": "markdown",
      "metadata": {
        "id": "xqCt-3ixG5Oi"
      },
      "source": [
        "# Ejercicio Z-scores: "
      ]
    },
    {
      "cell_type": "markdown",
      "metadata": {
        "id": "OGYC4Z2aG5Oi"
      },
      "source": [
        "En el 2020, el año de la pandemia, Juanito comió hamburguesas con papas a la francesa **TODOS** los dias. \n",
        "\n",
        "Cada dia Juanito apuntó en su diario el número de papas se comió ese dia. \n"
      ]
    },
    {
      "cell_type": "markdown",
      "metadata": {
        "id": "P0PwS6OAG5Oi"
      },
      "source": [
        "Estos son los datos de Juanito"
      ]
    },
    {
      "cell_type": "code",
      "metadata": {
        "id": "uyh4R7abG5Oi"
      },
      "source": [
        "papas_2020 = np.random.normal(400, 30, 365)\n",
        "papas_2020 = [int(p) for p in papas_2020] # Esto es un pequ~o truco para convertir a numeros enteros. No importante ahora. "
      ],
      "execution_count": null,
      "outputs": []
    },
    {
      "cell_type": "markdown",
      "metadata": {
        "id": "X_lG98R_G5Oi"
      },
      "source": [
        "1. Grafica el histograma (la distribucion) del numero de papas que comio Juanito en 2020: "
      ]
    },
    {
      "cell_type": "code",
      "metadata": {
        "id": "URozjNEcG5Oj"
      },
      "source": [
        ""
      ],
      "execution_count": null,
      "outputs": []
    },
    {
      "cell_type": "markdown",
      "metadata": {
        "id": "CLPDBzldG5Oj"
      },
      "source": [
        "2. Cuantas papas comio en promedio cada dia en 2020? Cual es la desviacion estandar de esta distribucion? "
      ]
    },
    {
      "cell_type": "code",
      "metadata": {
        "id": "tA4JDH4bG5Oj"
      },
      "source": [
        ""
      ],
      "execution_count": null,
      "outputs": []
    },
    {
      "cell_type": "markdown",
      "metadata": {
        "id": "FqEIA6T5G5Oj"
      },
      "source": [
        "3. Convierte estos datos a un \"z-score\" (es decir, normaliza los datos de Juanito!)"
      ]
    },
    {
      "cell_type": "code",
      "metadata": {
        "id": "HrAaJU5pG5Oj"
      },
      "source": [
        ""
      ],
      "execution_count": null,
      "outputs": []
    },
    {
      "cell_type": "markdown",
      "metadata": {
        "id": "ANWtvJv8G5Oj"
      },
      "source": [
        "4. Guarda estos datos (papas_2020 y los datos normalizados / el z-score) en un \"pandas dataframe\""
      ]
    },
    {
      "cell_type": "code",
      "metadata": {
        "id": "epEDUr-uG5Ok"
      },
      "source": [
        ""
      ],
      "execution_count": null,
      "outputs": []
    }
  ]
}