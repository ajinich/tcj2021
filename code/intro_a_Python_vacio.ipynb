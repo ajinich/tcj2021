{
  "nbformat": 4,
  "nbformat_minor": 0,
  "metadata": {
    "kernelspec": {
      "display_name": "Python 3",
      "language": "python",
      "name": "python3"
    },
    "language_info": {
      "codemirror_mode": {
        "name": "ipython",
        "version": 3
      },
      "file_extension": ".py",
      "mimetype": "text/x-python",
      "name": "python",
      "nbconvert_exporter": "python",
      "pygments_lexer": "ipython3",
      "version": "3.6.6"
    },
    "colab": {
      "name": "intro_a_Python.ipynb",
      "provenance": []
    }
  },
  "cells": [
    {
      "cell_type": "code",
      "metadata": {
        "id": "CZrRtqO4YmcF"
      },
      "source": [
        "!wget https://raw.githubusercontent.com/beangoben/workshop_template/master/colab_utils.py -O colab_utils.py\n",
        "!rm -rf sample_data\n",
        "import colab_utils\n",
        "\n",
        "colab_utils.conda_install_from_yaml()\n",
        "\n",
        "github_repo = 'https://github.com/ajinich/tcj_2021_data'\n",
        "colab_utils.clone_repo(github_repo)\n",
        "\n",
        "import pandas as pd\n",
        "import matplotlib.pyplot as plt\n",
        "\n",
        "import sys\n",
        "sys.path.append('/usr/local/lib/python3.7/site-packages/')\n",
        "from rdkit import Chem\n",
        "from rdkit.Chem.Draw import IPythonConsole\n",
        "from rdkit.Chem import Draw"
      ],
      "execution_count": null,
      "outputs": []
    },
    {
      "cell_type": "markdown",
      "metadata": {
        "id": "XTQ53cOE4c5j"
      },
      "source": [
        "## Esto es un cuaderno de Python (\"iPython notebook\" o \"Jupyter notebook\")\n",
        "\n",
        "Esta divido en \"cells\" o celdas donde podemos escribir código.\n",
        "\n",
        "Hay dos tipos de celdas. Celdas de codigo y celdas de texto"
      ]
    },
    {
      "cell_type": "code",
      "metadata": {
        "id": "qOAsCDbf4XH-"
      },
      "source": [
        "### [EJERCICIO]\n",
        "# esta es una celda de texto. vamos a imprimir algo con la funcion print() \n",
        "\n",
        "###"
      ],
      "execution_count": null,
      "outputs": []
    },
    {
      "cell_type": "markdown",
      "metadata": {
        "id": "zR_1lvk847Yp"
      },
      "source": [
        "## Vamos a guardar dos listas de numeros en una \"variable\": "
      ]
    },
    {
      "cell_type": "code",
      "metadata": {
        "id": "IiSLKmnW4bfF"
      },
      "source": [
        "x_data = [1,3,5,7,9,11,13,15]\n",
        "\n",
        "### [EJERCICIO]\n",
        "# hacer una variable (una lista) y_data con 8 numeros\n",
        "\n",
        "###"
      ],
      "execution_count": null,
      "outputs": []
    },
    {
      "cell_type": "markdown",
      "metadata": {
        "id": "RJVxUDgS34Yc"
      },
      "source": [
        "## Vamos a hacer nuestra primera grafica usando la funcion plt.plot()\n",
        "\n"
      ]
    },
    {
      "cell_type": "code",
      "metadata": {
        "id": "tphPBxopuapW"
      },
      "source": [
        "### [EJERCICIO]\n",
        "# usar el comando plt.plot() con los datos x_data y y_data\n",
        "\n",
        "###\n",
        "plt.xlabel('eje X', fontsize = 16)\n",
        "plt.ylabel('eje Y', fontsize = 16)\n",
        "plt.title('Mi primera figura con Python')"
      ],
      "execution_count": null,
      "outputs": []
    },
    {
      "cell_type": "markdown",
      "metadata": {
        "id": "Yka47Kmv6bXI"
      },
      "source": [
        "## Una libreria que vamos a usar para analisis de datos se llama Pandas (Python Data Analysis Library)"
      ]
    },
    {
      "cell_type": "markdown",
      "metadata": {
        "id": "aob2AEVs6nSL"
      },
      "source": [
        "Con pandas podemos leer \"bases de datos\" - e.g. hojas de excel o archivos formato .csv (comma separated values) con chorros de datos.\n",
        "\n",
        "\n",
        "Como estamos trabajando en las computadoras de Google en la \"nube\", vamos a importar nuestros datos de unos \"github repositories\" (no te preocupes si no entiendes esta parte, solo estamos jalando unos datos para poder leerlos)"
      ]
    },
    {
      "cell_type": "markdown",
      "metadata": {
        "id": "M341UmRc8zFA"
      },
      "source": [
        "## Ahora aparece en el folder de archivos uno que se llama \"tuberculosis-death-rates.csv\", vamos a leerlos con Pandas\n"
      ]
    },
    {
      "cell_type": "code",
      "metadata": {
        "id": "5JW0RLRZ8F2Z"
      },
      "source": [
        "file_in = 'tuberculosis-death-rates.csv'\n",
        "### [EJERCICIO]\n",
        "# usar el comando pd.read_csv() para importar los datos\n",
        "\n",
        "###"
      ],
      "execution_count": null,
      "outputs": []
    },
    {
      "cell_type": "code",
      "metadata": {
        "id": "Qzd1mwZo9GMN"
      },
      "source": [
        "### [EJERCICIO]\n",
        "# Usar el comando df_data.head() para ver los datos \n",
        "\n",
        "###"
      ],
      "execution_count": null,
      "outputs": []
    },
    {
      "cell_type": "markdown",
      "metadata": {
        "id": "33PvI2rH9X3J"
      },
      "source": [
        "Algo muy util es aprender a filtrar los datos. Por ejemplo, solo nos interesan los datos de Mexico y de Sudafrica: "
      ]
    },
    {
      "cell_type": "code",
      "metadata": {
        "id": "LlsT9rvL9HfU"
      },
      "source": [
        "# Vamos a leer filtrar los datos, escogiendo solo los de un país y guardandolos \n",
        "# en nuevas variables. \n",
        "df_MX = df_data[df_data.Entity == 'Mexico']\n",
        "df_SA = df_data[df_data.Entity == 'South Africa']\n",
        "df_IN = df_data[df_data.Entity == 'India']\n",
        "\n",
        "### [EJERCICIO]\n",
        "# Escoge un país más y filtra los datos para ese país. Guarda los datos en \n",
        "# una variable que se llame tipo df_PAIS \n",
        "\n",
        "###\n"
      ],
      "execution_count": null,
      "outputs": []
    },
    {
      "cell_type": "code",
      "metadata": {
        "id": "OaIF2ouf9UuV"
      },
      "source": [
        "### [EJERCICIO]\n",
        "# Ve los datos para uno de los países usando la funcion head() \n",
        "\n",
        "###"
      ],
      "execution_count": null,
      "outputs": []
    },
    {
      "cell_type": "code",
      "metadata": {
        "id": "uwXc7XK89hWp"
      },
      "source": [
        "plt.plot(df_MX.Year, df_MX.Rate)\n",
        "plt.plot(df_SA.Year, df_SA.Rate)\n",
        "plt.plot(df_IN.Year, df_IN.Rate)\n",
        "### [EJERCICIO]\n",
        "# grafica también los datos del país que escogiste: \n",
        "\n",
        "###\n",
        "\n",
        "### [EJERCICIO]\n",
        "# Agrega el nombre del pais que escogiste a la leyenda:\n",
        "\n",
        "plt.legend(['Mexico', 'Sudafrica', 'India']) \n",
        "###\n",
        "\n",
        "plt.xlabel('Year', fontsize = 16)\n",
        "plt.ylabel('TB death rate', fontsize = 16)"
      ],
      "execution_count": null,
      "outputs": []
    },
    {
      "cell_type": "markdown",
      "metadata": {
        "id": "I9OYdTSqBpUv"
      },
      "source": [
        "# Este es un taller de quimica (y microbiologia y programacion...) entonces vamos a usar Python para visualizar y analizar moleculas:  \n"
      ]
    },
    {
      "cell_type": "markdown",
      "metadata": {
        "id": "Gpvm6p3W12sZ"
      },
      "source": [
        "Hay un archivo de datos que se llama 'compounds.csv' que tiene la base de datos de moleculas que vamos a estar usando. \n",
        "\n",
        "Importa esa base de datos a un dataframe llamado \"df_mols\" usando la funcion pd.read_csv()\n"
      ]
    },
    {
      "cell_type": "code",
      "metadata": {
        "id": "I3kiv2ttC2Xb"
      },
      "source": [
        "### [EJERCICIO]\n",
        "# Importa esa base de datos a un dataframe llamado \"df_mols\" \n",
        "# usando la funcion pd.read_csv()\n",
        "\n",
        "\n",
        "### \n",
        "df_mols.head(5)"
      ],
      "execution_count": null,
      "outputs": []
    },
    {
      "cell_type": "markdown",
      "metadata": {
        "id": "CN5ku7Wu0DIS"
      },
      "source": [
        "Vamos a escoger nueve moléculas aleatorias usando la funcion .sample()\n"
      ]
    },
    {
      "cell_type": "code",
      "metadata": {
        "id": "jrvcRPa30ChF"
      },
      "source": [
        "### [EJERCICIO]\n",
        "# Escoge 9 moleculas (renglones del dataframe) aleatorios, y guardalos en una \n",
        "# nueva variable df_sample\n",
        "\n",
        "\n",
        "###\n",
        "\n",
        "df_sample"
      ],
      "execution_count": null,
      "outputs": []
    },
    {
      "cell_type": "markdown",
      "metadata": {
        "id": "6FwfkIow0-ls"
      },
      "source": [
        "La columna \"SMILES\" tiene la estructura de la molecula en un formato/lenguaje que la computadora puede leer. \n",
        "\n",
        "Para tomar los datos que estan en esa columna, usamos esta sintaxis: \n",
        "df.SMILES\n"
      ]
    },
    {
      "cell_type": "code",
      "metadata": {
        "id": "q5GLxvgKD81D"
      },
      "source": [
        "### [EJERCICIO]\n",
        "# toma los datos que estan en la columna SMILES de tu dataframe \"df_sample\"\n",
        "# guarda esos datos en una nueva variable que se llame mols_smiles\n",
        "mols_smiles = df_sample.SMILES\n",
        "\n",
        "###\n",
        "mols_smiles"
      ],
      "execution_count": null,
      "outputs": []
    },
    {
      "cell_type": "markdown",
      "metadata": {
        "id": "3n8N5_OF1nwR"
      },
      "source": [
        "Finalmente vamos a visualizar estas moleculas con los comandos de abajo: \n"
      ]
    },
    {
      "cell_type": "code",
      "metadata": {
        "id": "HE-OCI0sDm24"
      },
      "source": [
        "mols_rdkit = [Chem.MolFromSmiles(smi) for smi in mols_smiles]\n",
        "Draw.MolsToGridImage(mols_rdkit, subImgSize=(400, 400))"
      ],
      "execution_count": null,
      "outputs": []
    },
    {
      "cell_type": "markdown",
      "metadata": {
        "id": "hvRYpPXTyjRy"
      },
      "source": [
        "# Ejercicio avanzado: "
      ]
    },
    {
      "cell_type": "code",
      "metadata": {
        "id": "86iaIdJ3Edj0"
      },
      "source": [
        ""
      ],
      "execution_count": null,
      "outputs": []
    }
  ]
}