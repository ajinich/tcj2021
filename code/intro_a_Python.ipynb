{
  "nbformat": 4,
  "nbformat_minor": 0,
  "metadata": {
    "kernelspec": {
      "display_name": "Python 3",
      "language": "python",
      "name": "python3"
    },
    "language_info": {
      "codemirror_mode": {
        "name": "ipython",
        "version": 3
      },
      "file_extension": ".py",
      "mimetype": "text/x-python",
      "name": "python",
      "nbconvert_exporter": "python",
      "pygments_lexer": "ipython3",
      "version": "3.6.6"
    },
    "colab": {
      "name": "intro_a_Python.ipynb",
      "provenance": []
    }
  },
  "cells": [
    {
      "cell_type": "markdown",
      "metadata": {
        "id": "XTQ53cOE4c5j"
      },
      "source": [
        "Esto es un cuaderno de Python (\"iPython notebook\" o \"Jupyter notebook\")\n",
        "\n",
        "Esta divido en \"cells\" o celdas donde podemos escribir código.\n",
        "\n",
        "Hay dos tipos de celdas. Celdas de codigo y celdas de texto"
      ]
    },
    {
      "cell_type": "code",
      "metadata": {
        "id": "qOAsCDbf4XH-",
        "outputId": "af8e6720-34b5-4e0b-9394-e844f3116f4a",
        "colab": {
          "base_uri": "https://localhost:8080/"
        }
      },
      "source": [
        "# esta es una celda de texto. vamos a imprimir algo. \n",
        "print('Hola mundo')"
      ],
      "execution_count": 4,
      "outputs": [
        {
          "output_type": "stream",
          "text": [
            "Hola mundo\n"
          ],
          "name": "stdout"
        }
      ]
    },
    {
      "cell_type": "markdown",
      "metadata": {
        "id": "zR_1lvk847Yp"
      },
      "source": [
        "Vamos a guardar dos listas de numeros en una \"variable\": "
      ]
    },
    {
      "cell_type": "code",
      "metadata": {
        "id": "IiSLKmnW4bfF"
      },
      "source": [
        "x_data = [1,3,5,7,9,11,13,15]\n",
        "\n",
        "y_data = [15,13,11,9,7,5,3,1]"
      ],
      "execution_count": 10,
      "outputs": []
    },
    {
      "cell_type": "markdown",
      "metadata": {
        "id": "RJVxUDgS34Yc"
      },
      "source": [
        "Podemos importar librerias con herramientas (funciones) que vamos a usar:"
      ]
    },
    {
      "cell_type": "code",
      "metadata": {
        "id": "vd7eojoz34Pm"
      },
      "source": [
        "import matplotlib.pyplot as plt"
      ],
      "execution_count": 11,
      "outputs": []
    },
    {
      "cell_type": "code",
      "metadata": {
        "id": "tphPBxopuapW",
        "outputId": "832017bb-720e-40ec-f588-c3deb5c1959b",
        "colab": {
          "base_uri": "https://localhost:8080/",
          "height": 317
        }
      },
      "source": [
        "plt.plot(x_data, y_data, '-o')\n",
        "plt.xlabel('eje X', fontsize = 16)\n",
        "plt.ylabel('eje Y', fontsize = 16)\n",
        "plt.title('Mi primera figura con Python')"
      ],
      "execution_count": 22,
      "outputs": [
        {
          "output_type": "execute_result",
          "data": {
            "text/plain": [
              "Text(0.5, 1.0, 'Mi primera figura con Python')"
            ]
          },
          "metadata": {
            "tags": []
          },
          "execution_count": 22
        },
        {
          "output_type": "display_data",
          "data": {
            "image/png": "[encoded data removed]",
            "text/plain": [
              "<Figure size 432x288 with 1 Axes>"
            ]
          },
          "metadata": {
            "tags": [],
            "needs_background": "light"
          }
        }
      ]
    },
    {
      "cell_type": "code",
      "metadata": {
        "id": "lDnltQwY5ZzS"
      },
      "source": [
        ""
      ],
      "execution_count": null,
      "outputs": []
    }
  ]
}