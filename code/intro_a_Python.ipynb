{
  "nbformat": 4,
  "nbformat_minor": 0,
  "metadata": {
    "kernelspec": {
      "display_name": "Python 3",
      "language": "python",
      "name": "python3"
    },
    "language_info": {
      "codemirror_mode": {
        "name": "ipython",
        "version": 3
      },
      "file_extension": ".py",
      "mimetype": "text/x-python",
      "name": "python",
      "nbconvert_exporter": "python",
      "pygments_lexer": "ipython3",
      "version": "3.6.6"
    },
    "colab": {
      "name": "intro_a_Python.ipynb",
      "provenance": []
    }
  },
  "cells": [
    {
      "cell_type": "markdown",
      "metadata": {
        "id": "XTQ53cOE4c5j"
      },
      "source": [
        "## Esto es un cuaderno de Python (\"iPython notebook\" o \"Jupyter notebook\")\n",
        "\n",
        "Esta divido en \"cells\" o celdas donde podemos escribir código.\n",
        "\n",
        "Hay dos tipos de celdas. Celdas de codigo y celdas de texto"
      ]
    },
    {
      "cell_type": "code",
      "metadata": {
        "colab": {
          "base_uri": "https://localhost:8080/"
        },
        "id": "qOAsCDbf4XH-",
        "outputId": "af8e6720-34b5-4e0b-9394-e844f3116f4a"
      },
      "source": [
        "# esta es una celda de texto. vamos a imprimir algo. \n",
        "print('Hola mundo')"
      ],
      "execution_count": 4,
      "outputs": [
        {
          "output_type": "stream",
          "text": [
            "Hola mundo\n"
          ],
          "name": "stdout"
        }
      ]
    },
    {
      "cell_type": "markdown",
      "metadata": {
        "id": "zR_1lvk847Yp"
      },
      "source": [
        "## Vamos a guardar dos listas de numeros en una \"variable\": "
      ]
    },
    {
      "cell_type": "code",
      "metadata": {
        "id": "IiSLKmnW4bfF"
      },
      "source": [
        "x_data = [1,3,5,7,9,11,13,15]\n",
        "\n",
        "y_data = [15,13,11,9,7,5,3,1]"
      ],
      "execution_count": 10,
      "outputs": []
    },
    {
      "cell_type": "markdown",
      "metadata": {
        "id": "RJVxUDgS34Yc"
      },
      "source": [
        "## Podemos importar librerias con herramientas (funciones) que vamos a usar:"
      ]
    },
    {
      "cell_type": "code",
      "metadata": {
        "id": "vd7eojoz34Pm"
      },
      "source": [
        "import matplotlib.pyplot as plt"
      ],
      "execution_count": 11,
      "outputs": []
    },
    {
      "cell_type": "code",
      "metadata": {
        "colab": {
          "base_uri": "https://localhost:8080/",
          "height": 317
        },
        "id": "tphPBxopuapW",
        "outputId": "832017bb-720e-40ec-f588-c3deb5c1959b"
      },
      "source": [
        "plt.plot(x_data, y_data, '-o')\n",
        "plt.xlabel('eje X', fontsize = 16)\n",
        "plt.ylabel('eje Y', fontsize = 16)\n",
        "plt.title('Mi primera figura con Python')"
      ],
      "execution_count": 22,
      "outputs": [
        {
          "output_type": "execute_result",
          "data": {
            "text/plain": [
              "Text(0.5, 1.0, 'Mi primera figura con Python')"
            ]
          },
          "metadata": {
            "tags": []
          },
          "execution_count": 22
        },
        {
          "output_type": "display_data",
          "data": {
            "image/png": "[encoded data removed]",
            "text/plain": [
              "<Figure size 432x288 with 1 Axes>"
            ]
          },
          "metadata": {
            "tags": [],
            "needs_background": "light"
          }
        }
      ]
    },
    {
      "cell_type": "markdown",
      "metadata": {
        "id": "Yka47Kmv6bXI"
      },
      "source": [
        "## Una libreria que vamos a usar para analisis de datos se llama Pandas (Python Data Analysis Library)"
      ]
    },
    {
      "cell_type": "code",
      "metadata": {
        "id": "lDnltQwY5ZzS"
      },
      "source": [
        "import pandas as pd"
      ],
      "execution_count": 23,
      "outputs": []
    },
    {
      "cell_type": "markdown",
      "metadata": {
        "id": "aob2AEVs6nSL"
      },
      "source": [
        "Con pandas podemos leer \"bases de datos\" - e.g. hojas de excel o archivos formato .csv (comma separated values) con chorros de datos.\n",
        "\n",
        "\n",
        "Como estamos trabajando en las computadoras de Google en la \"nube\", vamos a importar nuestros datos de unos \"github repositories\" (no te preocupes si no entiendes esta parte, solo estamos jalando unos datos para poder leerlos)"
      ]
    },
    {
      "cell_type": "code",
      "metadata": {
        "id": "33yf8MMX6jbk",
        "outputId": "da228a52-8d56-40b9-994e-fa7e5d3905c8",
        "colab": {
          "base_uri": "https://localhost:8080/"
        }
      },
      "source": [
        "!wget https://raw.githubusercontent.com/beangoben/workshop_template/master/colab_utils.py -O colab_utils.py\n",
        "!rm -rf sample_data\n",
        "import colab_utils"
      ],
      "execution_count": 32,
      "outputs": [
        {
          "output_type": "stream",
          "text": [
            "--2021-01-19 18:51:08--  https://raw.githubusercontent.com/beangoben/workshop_template/master/colab_utils.py\n",
            "Resolving raw.githubusercontent.com (raw.githubusercontent.com)... 151.101.0.133, 151.101.64.133, 151.101.128.133, ...\n",
            "Connecting to raw.githubusercontent.com (raw.githubusercontent.com)|151.101.0.133|:443... connected.\n",
            "HTTP request sent, awaiting response... 200 OK\n",
            "Length: 7173 (7.0K) [text/plain]\n",
            "Saving to: ‘colab_utils.py’\n",
            "\n",
            "\rcolab_utils.py        0%[                    ]       0  --.-KB/s               \rcolab_utils.py      100%[===================>]   7.00K  --.-KB/s    in 0s      \n",
            "\n",
            "2021-01-19 18:51:09 (61.1 MB/s) - ‘colab_utils.py’ saved [7173/7173]\n",
            "\n"
          ],
          "name": "stdout"
        }
      ]
    },
    {
      "cell_type": "code",
      "metadata": {
        "id": "vAldTtb67-sV",
        "outputId": "f00dd245-aae9-460f-8391-87da53963fe8",
        "colab": {
          "base_uri": "https://localhost:8080/"
        }
      },
      "source": [
        "github_repo = 'https://github.com/ajinich/tcj_2021_data'\n",
        "colab_utils.clone_repo(github_repo)"
      ],
      "execution_count": 33,
      "outputs": [
        {
          "output_type": "stream",
          "text": [
            "CMD: git clone --recursive https://github.com/ajinich/tcj_2021_data\n"
          ],
          "name": "stdout"
        }
      ]
    },
    {
      "cell_type": "markdown",
      "metadata": {
        "id": "M341UmRc8zFA"
      },
      "source": [
        "## Ahora aparece en el folder de archivos uno que se llama \"tuberculosis-death-rates.csv\", vamos a leerlos con Pandas\n"
      ]
    },
    {
      "cell_type": "code",
      "metadata": {
        "id": "5JW0RLRZ8F2Z"
      },
      "source": [
        "df_data = pd.read_csv('tuberculosis-death-rates.csv')"
      ],
      "execution_count": 34,
      "outputs": []
    },
    {
      "cell_type": "code",
      "metadata": {
        "id": "Qzd1mwZo9GMN",
        "outputId": "3a7e0e3d-f421-4e0e-fe21-c08b00d2140a",
        "colab": {
          "base_uri": "https://localhost:8080/",
          "height": 197
        }
      },
      "source": [
        "df_data.head()"
      ],
      "execution_count": 35,
      "outputs": [
        {
          "output_type": "execute_result",
          "data": {
            "text/html": [
              "<div>\n",
              "<style scoped>\n",
              "    .dataframe tbody tr th:only-of-type {\n",
              "        vertical-align: middle;\n",
              "    }\n",
              "\n",
              "    .dataframe tbody tr th {\n",
              "        vertical-align: top;\n",
              "    }\n",
              "\n",
              "    .dataframe thead th {\n",
              "        text-align: right;\n",
              "    }\n",
              "</style>\n",
              "<table border=\"1\" class=\"dataframe\">\n",
              "  <thead>\n",
              "    <tr style=\"text-align: right;\">\n",
              "      <th></th>\n",
              "      <th>Entity</th>\n",
              "      <th>Code</th>\n",
              "      <th>Year</th>\n",
              "      <th>Rate</th>\n",
              "    </tr>\n",
              "  </thead>\n",
              "  <tbody>\n",
              "    <tr>\n",
              "      <th>0</th>\n",
              "      <td>Afghanistan</td>\n",
              "      <td>AFG</td>\n",
              "      <td>1990</td>\n",
              "      <td>52.233775</td>\n",
              "    </tr>\n",
              "    <tr>\n",
              "      <th>1</th>\n",
              "      <td>Afghanistan</td>\n",
              "      <td>AFG</td>\n",
              "      <td>1991</td>\n",
              "      <td>50.921457</td>\n",
              "    </tr>\n",
              "    <tr>\n",
              "      <th>2</th>\n",
              "      <td>Afghanistan</td>\n",
              "      <td>AFG</td>\n",
              "      <td>1992</td>\n",
              "      <td>49.127851</td>\n",
              "    </tr>\n",
              "    <tr>\n",
              "      <th>3</th>\n",
              "      <td>Afghanistan</td>\n",
              "      <td>AFG</td>\n",
              "      <td>1993</td>\n",
              "      <td>48.917753</td>\n",
              "    </tr>\n",
              "    <tr>\n",
              "      <th>4</th>\n",
              "      <td>Afghanistan</td>\n",
              "      <td>AFG</td>\n",
              "      <td>1994</td>\n",
              "      <td>49.970905</td>\n",
              "    </tr>\n",
              "  </tbody>\n",
              "</table>\n",
              "</div>"
            ],
            "text/plain": [
              "        Entity Code  Year       Rate\n",
              "0  Afghanistan  AFG  1990  52.233775\n",
              "1  Afghanistan  AFG  1991  50.921457\n",
              "2  Afghanistan  AFG  1992  49.127851\n",
              "3  Afghanistan  AFG  1993  48.917753\n",
              "4  Afghanistan  AFG  1994  49.970905"
            ]
          },
          "metadata": {
            "tags": []
          },
          "execution_count": 35
        }
      ]
    },
    {
      "cell_type": "markdown",
      "metadata": {
        "id": "33PvI2rH9X3J"
      },
      "source": [
        "Algo muy util es aprender a filtrar los datos. Por ejemplo, solo nos interesan los datos de Mexico y de Sudafrica: "
      ]
    },
    {
      "cell_type": "code",
      "metadata": {
        "id": "LlsT9rvL9HfU"
      },
      "source": [
        "df_MX = df_data[df_data.Entity == 'Mexico']\n",
        "df_SA = df_data[df_data.Entity == 'South Africa']"
      ],
      "execution_count": 37,
      "outputs": []
    },
    {
      "cell_type": "code",
      "metadata": {
        "id": "OaIF2ouf9UuV",
        "outputId": "59dbfe04-e187-4ef8-cbb8-8427cb0dcec5",
        "colab": {
          "base_uri": "https://localhost:8080/",
          "height": 197
        }
      },
      "source": [
        "df_MX.head(5)"
      ],
      "execution_count": 38,
      "outputs": [
        {
          "output_type": "execute_result",
          "data": {
            "text/html": [
              "<div>\n",
              "<style scoped>\n",
              "    .dataframe tbody tr th:only-of-type {\n",
              "        vertical-align: middle;\n",
              "    }\n",
              "\n",
              "    .dataframe tbody tr th {\n",
              "        vertical-align: top;\n",
              "    }\n",
              "\n",
              "    .dataframe thead th {\n",
              "        text-align: right;\n",
              "    }\n",
              "</style>\n",
              "<table border=\"1\" class=\"dataframe\">\n",
              "  <thead>\n",
              "    <tr style=\"text-align: right;\">\n",
              "      <th></th>\n",
              "      <th>Entity</th>\n",
              "      <th>Code</th>\n",
              "      <th>Year</th>\n",
              "      <th>Rate</th>\n",
              "    </tr>\n",
              "  </thead>\n",
              "  <tbody>\n",
              "    <tr>\n",
              "      <th>3668</th>\n",
              "      <td>Mexico</td>\n",
              "      <td>MEX</td>\n",
              "      <td>1990</td>\n",
              "      <td>13.568954</td>\n",
              "    </tr>\n",
              "    <tr>\n",
              "      <th>3669</th>\n",
              "      <td>Mexico</td>\n",
              "      <td>MEX</td>\n",
              "      <td>1991</td>\n",
              "      <td>12.466743</td>\n",
              "    </tr>\n",
              "    <tr>\n",
              "      <th>3670</th>\n",
              "      <td>Mexico</td>\n",
              "      <td>MEX</td>\n",
              "      <td>1992</td>\n",
              "      <td>11.645780</td>\n",
              "    </tr>\n",
              "    <tr>\n",
              "      <th>3671</th>\n",
              "      <td>Mexico</td>\n",
              "      <td>MEX</td>\n",
              "      <td>1993</td>\n",
              "      <td>10.700633</td>\n",
              "    </tr>\n",
              "    <tr>\n",
              "      <th>3672</th>\n",
              "      <td>Mexico</td>\n",
              "      <td>MEX</td>\n",
              "      <td>1994</td>\n",
              "      <td>9.753710</td>\n",
              "    </tr>\n",
              "  </tbody>\n",
              "</table>\n",
              "</div>"
            ],
            "text/plain": [
              "      Entity Code  Year       Rate\n",
              "3668  Mexico  MEX  1990  13.568954\n",
              "3669  Mexico  MEX  1991  12.466743\n",
              "3670  Mexico  MEX  1992  11.645780\n",
              "3671  Mexico  MEX  1993  10.700633\n",
              "3672  Mexico  MEX  1994   9.753710"
            ]
          },
          "metadata": {
            "tags": []
          },
          "execution_count": 38
        }
      ]
    },
    {
      "cell_type": "code",
      "metadata": {
        "id": "uwXc7XK89hWp",
        "outputId": "5afa3b24-12a4-4408-c451-334469c65448",
        "colab": {
          "base_uri": "https://localhost:8080/",
          "height": 298
        }
      },
      "source": [
        "plt.plot(df_MX.Year, df_MX.Rate)\n",
        "plt.plot(df_SA.Year, df_SA.Rate)\n",
        "plt.legend(['Mexico', 'Sudafrica'])\n",
        "plt.xlabel('Year')\n",
        "plt.ylabel('TB death rate')"
      ],
      "execution_count": 43,
      "outputs": [
        {
          "output_type": "execute_result",
          "data": {
            "text/plain": [
              "Text(0, 0.5, 'TB death rate')"
            ]
          },
          "metadata": {
            "tags": []
          },
          "execution_count": 43
        },
        {
          "output_type": "display_data",
          "data": {
            "image/png": "[encoded data removed]",
            "text/plain": [
              "<Figure size 432x288 with 1 Axes>"
            ]
          },
          "metadata": {
            "tags": [],
            "needs_background": "light"
          }
        }
      ]
    },
    {
      "cell_type": "code",
      "metadata": {
        "id": "CMYUPv2Z_T5C"
      },
      "source": [
        ""
      ],
      "execution_count": null,
      "outputs": []
    }
  ]
}