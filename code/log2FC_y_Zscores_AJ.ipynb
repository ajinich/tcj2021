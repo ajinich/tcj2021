{
 "cells": [
  {
   "cell_type": "markdown",
   "metadata": {},
   "source": [
    "En este cuaderno vamos a aprender / practicar / entender que son los \"log2 fold-changes\" y \"Z-scores\" que aparecen en los datos del proyecto sobre compuestos quimicos contra Mycobacterium tuberculosis"
   ]
  },
  {
   "cell_type": "code",
   "execution_count": 1,
   "metadata": {},
   "outputs": [],
   "source": [
    "import pandas as pd\n",
    "import matplotlib.pyplot as plt"
   ]
  },
  {
   "cell_type": "markdown",
   "metadata": {},
   "source": [
    "Archivos de datos: "
   ]
  },
  {
   "cell_type": "code",
   "execution_count": 2,
   "metadata": {},
   "outputs": [
    {
     "data": {
      "text/html": [
       "<div>\n",
       "<style scoped>\n",
       "    .dataframe tbody tr th:only-of-type {\n",
       "        vertical-align: middle;\n",
       "    }\n",
       "\n",
       "    .dataframe tbody tr th {\n",
       "        vertical-align: top;\n",
       "    }\n",
       "\n",
       "    .dataframe thead th {\n",
       "        text-align: right;\n",
       "    }\n",
       "</style>\n",
       "<table border=\"1\" class=\"dataframe\">\n",
       "  <thead>\n",
       "    <tr style=\"text-align: right;\">\n",
       "      <th></th>\n",
       "      <th>compound</th>\n",
       "      <th>concentration</th>\n",
       "      <th>strain</th>\n",
       "      <th>n_replicates</th>\n",
       "      <th>log_fold_change</th>\n",
       "      <th>std_error_lfc</th>\n",
       "      <th>log2_fold_change</th>\n",
       "      <th>std_error_l2fc</th>\n",
       "      <th>z_score</th>\n",
       "      <th>p_value</th>\n",
       "    </tr>\n",
       "  </thead>\n",
       "  <tbody>\n",
       "    <tr>\n",
       "      <th>0</th>\n",
       "      <td>BRD-K27893489-003-11-5</td>\n",
       "      <td>1.0</td>\n",
       "      <td>aceE</td>\n",
       "      <td>8</td>\n",
       "      <td>-0.744124</td>\n",
       "      <td>0.096776</td>\n",
       "      <td>-1.073544</td>\n",
       "      <td>0.139618</td>\n",
       "      <td>-7.689167</td>\n",
       "      <td>1.638590e-14</td>\n",
       "    </tr>\n",
       "    <tr>\n",
       "      <th>1</th>\n",
       "      <td>BRD-K27893489-003-11-5</td>\n",
       "      <td>3.0</td>\n",
       "      <td>aceE</td>\n",
       "      <td>8</td>\n",
       "      <td>-0.533935</td>\n",
       "      <td>0.096395</td>\n",
       "      <td>-0.770305</td>\n",
       "      <td>0.139068</td>\n",
       "      <td>-5.539061</td>\n",
       "      <td>3.127667e-08</td>\n",
       "    </tr>\n",
       "    <tr>\n",
       "      <th>2</th>\n",
       "      <td>BRD-K27893489-003-11-5</td>\n",
       "      <td>9.0</td>\n",
       "      <td>aceE</td>\n",
       "      <td>8</td>\n",
       "      <td>-0.899398</td>\n",
       "      <td>0.097281</td>\n",
       "      <td>-1.297557</td>\n",
       "      <td>0.140347</td>\n",
       "      <td>-9.245345</td>\n",
       "      <td>2.889549e-20</td>\n",
       "    </tr>\n",
       "  </tbody>\n",
       "</table>\n",
       "</div>"
      ],
      "text/plain": [
       "                 compound  concentration strain  n_replicates  \\\n",
       "0  BRD-K27893489-003-11-5            1.0   aceE             8   \n",
       "1  BRD-K27893489-003-11-5            3.0   aceE             8   \n",
       "2  BRD-K27893489-003-11-5            9.0   aceE             8   \n",
       "\n",
       "   log_fold_change  std_error_lfc  log2_fold_change  std_error_l2fc   z_score  \\\n",
       "0        -0.744124       0.096776         -1.073544        0.139618 -7.689167   \n",
       "1        -0.533935       0.096395         -0.770305        0.139068 -5.539061   \n",
       "2        -0.899398       0.097281         -1.297557        0.140347 -9.245345   \n",
       "\n",
       "        p_value  \n",
       "0  1.638590e-14  \n",
       "1  3.127667e-08  \n",
       "2  2.889549e-20  "
      ]
     },
     "execution_count": 2,
     "metadata": {},
     "output_type": "execute_result"
    }
   ],
   "source": [
    "file_in = '../data/lfc-p-values_bioactive.csv'\n",
    "df_lfc = pd.read_csv(file_in)\n",
    "df_lfc.head(3)"
   ]
  },
  {
   "cell_type": "markdown",
   "metadata": {},
   "source": [
    "Understand the Z-score: "
   ]
  },
  {
   "cell_type": "code",
   "execution_count": 23,
   "metadata": {},
   "outputs": [
    {
     "data": {
      "text/html": [
       "<div>\n",
       "<style scoped>\n",
       "    .dataframe tbody tr th:only-of-type {\n",
       "        vertical-align: middle;\n",
       "    }\n",
       "\n",
       "    .dataframe tbody tr th {\n",
       "        vertical-align: top;\n",
       "    }\n",
       "\n",
       "    .dataframe thead th {\n",
       "        text-align: right;\n",
       "    }\n",
       "</style>\n",
       "<table border=\"1\" class=\"dataframe\">\n",
       "  <thead>\n",
       "    <tr style=\"text-align: right;\">\n",
       "      <th></th>\n",
       "      <th>compound</th>\n",
       "      <th>concentration</th>\n",
       "      <th>strain</th>\n",
       "      <th>n_replicates</th>\n",
       "      <th>log_fold_change</th>\n",
       "      <th>std_error_lfc</th>\n",
       "      <th>log2_fold_change</th>\n",
       "      <th>std_error_l2fc</th>\n",
       "      <th>z_score</th>\n",
       "      <th>p_value</th>\n",
       "    </tr>\n",
       "  </thead>\n",
       "  <tbody>\n",
       "    <tr>\n",
       "      <th>3</th>\n",
       "      <td>BRD-K27893489-003-11-5</td>\n",
       "      <td>30.0</td>\n",
       "      <td>aceE</td>\n",
       "      <td>8</td>\n",
       "      <td>-1.560373</td>\n",
       "      <td>0.099562</td>\n",
       "      <td>-2.251143</td>\n",
       "      <td>0.143638</td>\n",
       "      <td>-15.672326</td>\n",
       "      <td>1.254003e-54</td>\n",
       "    </tr>\n",
       "    <tr>\n",
       "      <th>7</th>\n",
       "      <td>BRD-K13086613-001-01-6</td>\n",
       "      <td>30.0</td>\n",
       "      <td>aceE</td>\n",
       "      <td>8</td>\n",
       "      <td>-0.560870</td>\n",
       "      <td>0.096703</td>\n",
       "      <td>-0.809165</td>\n",
       "      <td>0.139513</td>\n",
       "      <td>-5.799931</td>\n",
       "      <td>6.860936e-09</td>\n",
       "    </tr>\n",
       "    <tr>\n",
       "      <th>9</th>\n",
       "      <td>BRD-K88492762-001-01-5</td>\n",
       "      <td>30.0</td>\n",
       "      <td>aceE</td>\n",
       "      <td>8</td>\n",
       "      <td>-1.243830</td>\n",
       "      <td>0.098705</td>\n",
       "      <td>-1.794467</td>\n",
       "      <td>0.142402</td>\n",
       "      <td>-12.601444</td>\n",
       "      <td>4.214770e-36</td>\n",
       "    </tr>\n",
       "    <tr>\n",
       "      <th>13</th>\n",
       "      <td>BRD-K06934249-001-01-8</td>\n",
       "      <td>30.0</td>\n",
       "      <td>aceE</td>\n",
       "      <td>8</td>\n",
       "      <td>-0.105861</td>\n",
       "      <td>0.096033</td>\n",
       "      <td>-0.152726</td>\n",
       "      <td>0.138546</td>\n",
       "      <td>-1.102348</td>\n",
       "      <td>2.703403e-01</td>\n",
       "    </tr>\n",
       "    <tr>\n",
       "      <th>17</th>\n",
       "      <td>BRD-A88358860-001-01-1</td>\n",
       "      <td>30.0</td>\n",
       "      <td>aceE</td>\n",
       "      <td>8</td>\n",
       "      <td>0.128800</td>\n",
       "      <td>0.096118</td>\n",
       "      <td>0.185819</td>\n",
       "      <td>0.138669</td>\n",
       "      <td>1.340022</td>\n",
       "      <td>1.802726e-01</td>\n",
       "    </tr>\n",
       "    <tr>\n",
       "      <th>21</th>\n",
       "      <td>BRD-K53540417-001-01-1</td>\n",
       "      <td>30.0</td>\n",
       "      <td>aceE</td>\n",
       "      <td>8</td>\n",
       "      <td>-0.514534</td>\n",
       "      <td>0.096417</td>\n",
       "      <td>-0.742315</td>\n",
       "      <td>0.139100</td>\n",
       "      <td>-5.336543</td>\n",
       "      <td>9.706869e-08</td>\n",
       "    </tr>\n",
       "    <tr>\n",
       "      <th>28</th>\n",
       "      <td>rifampin</td>\n",
       "      <td>30.0</td>\n",
       "      <td>aceE</td>\n",
       "      <td>8</td>\n",
       "      <td>-3.320163</td>\n",
       "      <td>0.156478</td>\n",
       "      <td>-4.789982</td>\n",
       "      <td>0.225750</td>\n",
       "      <td>-21.218046</td>\n",
       "      <td>1.538401e-98</td>\n",
       "    </tr>\n",
       "    <tr>\n",
       "      <th>40</th>\n",
       "      <td>BRD-A97316251-001-01-5</td>\n",
       "      <td>30.0</td>\n",
       "      <td>aceE</td>\n",
       "      <td>8</td>\n",
       "      <td>-0.717199</td>\n",
       "      <td>0.097613</td>\n",
       "      <td>-1.034699</td>\n",
       "      <td>0.140825</td>\n",
       "      <td>-7.347395</td>\n",
       "      <td>2.199531e-13</td>\n",
       "    </tr>\n",
       "    <tr>\n",
       "      <th>44</th>\n",
       "      <td>BRD-K25182024-001-01-2</td>\n",
       "      <td>30.0</td>\n",
       "      <td>aceE</td>\n",
       "      <td>8</td>\n",
       "      <td>-0.315618</td>\n",
       "      <td>0.096324</td>\n",
       "      <td>-0.455341</td>\n",
       "      <td>0.138965</td>\n",
       "      <td>-3.276647</td>\n",
       "      <td>1.054502e-03</td>\n",
       "    </tr>\n",
       "    <tr>\n",
       "      <th>48</th>\n",
       "      <td>BRD-A92801646-001-01-5</td>\n",
       "      <td>30.0</td>\n",
       "      <td>aceE</td>\n",
       "      <td>8</td>\n",
       "      <td>-1.796076</td>\n",
       "      <td>0.102709</td>\n",
       "      <td>-2.591190</td>\n",
       "      <td>0.148178</td>\n",
       "      <td>-17.486964</td>\n",
       "      <td>2.394564e-67</td>\n",
       "    </tr>\n",
       "  </tbody>\n",
       "</table>\n",
       "</div>"
      ],
      "text/plain": [
       "                  compound  concentration strain  n_replicates  \\\n",
       "3   BRD-K27893489-003-11-5           30.0   aceE             8   \n",
       "7   BRD-K13086613-001-01-6           30.0   aceE             8   \n",
       "9   BRD-K88492762-001-01-5           30.0   aceE             8   \n",
       "13  BRD-K06934249-001-01-8           30.0   aceE             8   \n",
       "17  BRD-A88358860-001-01-1           30.0   aceE             8   \n",
       "21  BRD-K53540417-001-01-1           30.0   aceE             8   \n",
       "28                rifampin           30.0   aceE             8   \n",
       "40  BRD-A97316251-001-01-5           30.0   aceE             8   \n",
       "44  BRD-K25182024-001-01-2           30.0   aceE             8   \n",
       "48  BRD-A92801646-001-01-5           30.0   aceE             8   \n",
       "\n",
       "    log_fold_change  std_error_lfc  log2_fold_change  std_error_l2fc  \\\n",
       "3         -1.560373       0.099562         -2.251143        0.143638   \n",
       "7         -0.560870       0.096703         -0.809165        0.139513   \n",
       "9         -1.243830       0.098705         -1.794467        0.142402   \n",
       "13        -0.105861       0.096033         -0.152726        0.138546   \n",
       "17         0.128800       0.096118          0.185819        0.138669   \n",
       "21        -0.514534       0.096417         -0.742315        0.139100   \n",
       "28        -3.320163       0.156478         -4.789982        0.225750   \n",
       "40        -0.717199       0.097613         -1.034699        0.140825   \n",
       "44        -0.315618       0.096324         -0.455341        0.138965   \n",
       "48        -1.796076       0.102709         -2.591190        0.148178   \n",
       "\n",
       "      z_score       p_value  \n",
       "3  -15.672326  1.254003e-54  \n",
       "7   -5.799931  6.860936e-09  \n",
       "9  -12.601444  4.214770e-36  \n",
       "13  -1.102348  2.703403e-01  \n",
       "17   1.340022  1.802726e-01  \n",
       "21  -5.336543  9.706869e-08  \n",
       "28 -21.218046  1.538401e-98  \n",
       "40  -7.347395  2.199531e-13  \n",
       "44  -3.276647  1.054502e-03  \n",
       "48 -17.486964  2.394564e-67  "
      ]
     },
     "execution_count": 23,
     "metadata": {},
     "output_type": "execute_result"
    }
   ],
   "source": [
    "df_test = df_lfc[ (df_lfc.strain.values == 'aceE') &  (df_lfc.concentration.values == 30.0)]\n",
    "df_test.head(10)"
   ]
  },
  {
   "cell_type": "code",
   "execution_count": 21,
   "metadata": {},
   "outputs": [],
   "source": [
    "z_AJ = (df_test.log_fold_change.values - df_test.log_fold_change.mean()) / df_test.log_fold_change.std()"
   ]
  },
  {
   "cell_type": "code",
   "execution_count": 22,
   "metadata": {},
   "outputs": [
    {
     "data": {
      "text/plain": [
       "Text(0, 0.5, 'me')"
      ]
     },
     "execution_count": 22,
     "metadata": {},
     "output_type": "execute_result"
    },
    {
     "data": {
      "image/png": "[encoded data removed]",
      "text/plain": [
       "<Figure size 432x288 with 1 Axes>"
      ]
     },
     "metadata": {
      "needs_background": "light"
     },
     "output_type": "display_data"
    }
   ],
   "source": [
    "plt.scatter(df_test.z_score.values, z_AJ)\n",
    "plt.xlim(-5, 5)\n",
    "plt.ylim(-5, 5)\n",
    "plt.xlabel('eachan')\n",
    "plt.ylabel('me')\n"
   ]
  },
  {
   "cell_type": "markdown",
   "metadata": {},
   "source": [
    "What if you use the entire dataset: "
   ]
  },
  {
   "cell_type": "code",
   "execution_count": 10,
   "metadata": {},
   "outputs": [],
   "source": [
    "z_AJ = (df_lfc.log_fold_change.values - df_lfc.log_fold_change.mean()) / df_lfc.log_fold_change.std()"
   ]
  },
  {
   "cell_type": "code",
   "execution_count": 11,
   "metadata": {},
   "outputs": [
    {
     "data": {
      "text/plain": [
       "<matplotlib.collections.PathCollection at 0x10f1465f8>"
      ]
     },
     "execution_count": 11,
     "metadata": {},
     "output_type": "execute_result"
    },
    {
     "data": {
      "image/png": "[encoded data removed]",
      "text/plain": [
       "<Figure size 432x288 with 1 Axes>"
      ]
     },
     "metadata": {
      "needs_background": "light"
     },
     "output_type": "display_data"
    }
   ],
   "source": [
    "plt.scatter(df_lfc.z_score.values, z_AJ)"
   ]
  },
  {
   "cell_type": "code",
   "execution_count": null,
   "metadata": {},
   "outputs": [],
   "source": []
  }
 ],
 "metadata": {
  "kernelspec": {
   "display_name": "Python 3",
   "language": "python",
   "name": "python3"
  },
  "language_info": {
   "codemirror_mode": {
    "name": "ipython",
    "version": 3
   },
   "file_extension": ".py",
   "mimetype": "text/x-python",
   "name": "python",
   "nbconvert_exporter": "python",
   "pygments_lexer": "ipython3",
   "version": "3.6.6"
  }
 },
 "nbformat": 4,
 "nbformat_minor": 2
}
