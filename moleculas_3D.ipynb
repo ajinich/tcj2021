{
  "nbformat": 4,
  "nbformat_minor": 0,
  "metadata": {
    "kernelspec": {
      "display_name": "Python 3",
      "language": "python",
      "name": "python3"
    },
    "language_info": {
      "codemirror_mode": {
        "name": "ipython",
        "version": 3
      },
      "file_extension": ".py",
      "mimetype": "text/x-python",
      "name": "python",
      "nbconvert_exporter": "python",
      "pygments_lexer": "ipython3",
      "version": "3.7.4"
    },
    "toc": {
      "base_numbering": 1,
      "nav_menu": {},
      "number_sections": true,
      "sideBar": true,
      "skip_h1_title": false,
      "title_cell": "Table of Contents",
      "title_sidebar": "Contents",
      "toc_cell": false,
      "toc_position": {},
      "toc_section_display": true,
      "toc_window_display": false
    },
    "colab": {
      "name": "moleculas_3D.ipynb",
      "provenance": [],
      "collapsed_sections": [],
      "include_colab_link": true
    }
  },
  "cells": [
    {
      "cell_type": "markdown",
      "metadata": {
        "id": "view-in-github",
        "colab_type": "text"
      },
      "source": [
        "<a href=\"https://colab.research.google.com/github/ajinich/tcj2021/blob/main/moleculas_3D.ipynb\" target=\"_parent\"><img src=\"https://colab.research.google.com/assets/colab-badge.svg\" alt=\"Open In Colab\"/></a>"
      ]
    },
    {
      "cell_type": "markdown",
      "metadata": {
        "ExecuteTime": {
          "end_time": "2020-04-07T13:00:31.536172Z",
          "start_time": "2020-04-07T13:00:31.532636Z"
        },
        "id": "v5lACW4qovun"
      },
      "source": [
        "Download colab_utils and import\n",
        "\n",
        "\n",
        "\n",
        "<a href=\"https://colab.research.google.com/github/beangoben/rdkit_colab/blob/master/Template.ipynb\" target=\"_parent\"><img src=\"https://colab.research.google.com/assets/colab-badge.svg\" alt=\"Open In Colab\"/></a>\n"
      ]
    },
    {
      "cell_type": "code",
      "metadata": {
        "ExecuteTime": {
          "end_time": "2020-04-07T12:59:10.855114Z",
          "start_time": "2020-04-07T12:59:10.540431Z"
        },
        "scrolled": true,
        "id": "J5HaH9Yvovuo",
        "colab": {
          "base_uri": "https://localhost:8080/"
        },
        "outputId": "42be9fb4-146f-4191-f0a5-abd8d2cbeddf"
      },
      "source": [
        "!wget https://raw.githubusercontent.com/beangoben/rdkit_colab/master/colab_utils.py -O colab_utils.py\n",
        "!rm -rf sample_data\n",
        "import colab_utils"
      ],
      "execution_count": 2,
      "outputs": [
        {
          "output_type": "stream",
          "text": [
            "--2021-01-21 22:33:25--  https://raw.githubusercontent.com/beangoben/rdkit_colab/master/colab_utils.py\n",
            "Resolving raw.githubusercontent.com (raw.githubusercontent.com)... 151.101.0.133, 151.101.64.133, 151.101.128.133, ...\n",
            "Connecting to raw.githubusercontent.com (raw.githubusercontent.com)|151.101.0.133|:443... connected.\n",
            "HTTP request sent, awaiting response... 200 OK\n",
            "Length: 7173 (7.0K) [text/plain]\n",
            "Saving to: ‘colab_utils.py’\n",
            "\n",
            "colab_utils.py      100%[===================>]   7.00K  --.-KB/s    in 0s      \n",
            "\n",
            "2021-01-21 22:33:25 (63.2 MB/s) - ‘colab_utils.py’ saved [7173/7173]\n",
            "\n"
          ],
          "name": "stdout"
        }
      ]
    },
    {
      "cell_type": "markdown",
      "metadata": {
        "id": "dYkzGZr5ovuw"
      },
      "source": [
        "Clone github repo, install stuff"
      ]
    },
    {
      "cell_type": "code",
      "metadata": {
        "id": "5DA0QH4Tovux",
        "colab": {
          "base_uri": "https://localhost:8080/"
        },
        "outputId": "620627a8-f3e0-418a-e713-ce2d29343443"
      },
      "source": [
        "# github_repo = 'https://github.com/beangoben/rdkit_colab'\n",
        "# github_repo = 'https://github.com/ajinich/tcj_2021_data'\n",
        "# colab_utils.clone_repo(github_repo)\n",
        "colab_utils.conda_install_from_yaml()"
      ],
      "execution_count": 3,
      "outputs": [
        {
          "output_type": "stream",
          "text": [
            "Ignoring: conda install already exists in {CONDA_DIR}!\n"
          ],
          "name": "stdout"
        }
      ]
    },
    {
      "cell_type": "code",
      "metadata": {
        "id": "1WigXtuBrCcu",
        "colab": {
          "base_uri": "https://localhost:8080/"
        },
        "outputId": "597d342c-b47d-474b-fc21-acd4384a717a"
      },
      "source": [
        "!pip install py3Dmol"
      ],
      "execution_count": 3,
      "outputs": [
        {
          "output_type": "stream",
          "text": [
            "Collecting py3Dmol\n",
            "  Downloading py3Dmol-0.9.1-py2.py3-none-any.whl (6.2 kB)\n",
            "Installing collected packages: py3Dmol\n",
            "Successfully installed py3Dmol-0.9.1\n"
          ],
          "name": "stdout"
        }
      ]
    },
    {
      "cell_type": "markdown",
      "metadata": {
        "id": "T-CPqE95ovu1"
      },
      "source": [
        "# Import modules\n",
        "If first time after installing rdkit, you need to restart and update sys.path"
      ]
    },
    {
      "cell_type": "code",
      "metadata": {
        "ExecuteTime": {
          "end_time": "2020-04-16T07:11:11.794473Z",
          "start_time": "2020-04-16T07:11:11.735773Z"
        },
        "id": "I5JlAf1aovu2"
      },
      "source": [
        "colab_utils.add_conda_dir_to_python_path()"
      ],
      "execution_count": 4,
      "outputs": []
    },
    {
      "cell_type": "code",
      "metadata": {
        "id": "l7xIWY9Qovu8"
      },
      "source": [
        "import pandas as pd\n",
        "import rdkit\n",
        "from rdkit import Chem\n",
        "from rdkit.Chem import AllChem\n",
        "\n",
        "import py3Dmol\n",
        "\n",
        "colab_utils.matplotlib_settings()"
      ],
      "execution_count": 9,
      "outputs": []
    },
    {
      "cell_type": "code",
      "metadata": {
        "id": "OFIuuQl8p9TK"
      },
      "source": [
        "def MolTo3DView(mol, size=(300, 300), style=\"stick\", surface=False, opacity=0.5):\n",
        "    \"\"\"Draw molecule in 3D\n",
        "    \n",
        "    Args:\n",
        "    ----\n",
        "        mol: rdMol, molecule to show\n",
        "        size: tuple(int, int), canvas size\n",
        "        style: str, type of drawing molecule\n",
        "               style can be 'line', 'stick', 'sphere', 'carton'\n",
        "        surface, bool, display SAS\n",
        "        opacity, float, opacity of surface, range 0.0-1.0\n",
        "    Return:\n",
        "    ----\n",
        "        viewer: py3Dmol.view, a class for constructing embedded 3Dmol.js views in ipython notebooks.\n",
        "    \"\"\"\n",
        "    assert style in ('line', 'stick', 'sphere', 'carton')\n",
        "    mblock = Chem.MolToMolBlock(mol)\n",
        "    viewer = py3Dmol.view(width=size[0], height=size[1])\n",
        "    viewer.addModel(mblock, 'mol')\n",
        "    viewer.setStyle({style:{}})\n",
        "    if surface:\n",
        "        viewer.addSurface(py3Dmol.SAS, {'opacity': opacity})\n",
        "    viewer.zoomTo()\n",
        "    return viewer\n",
        "\n",
        "def smi2conf(smiles):\n",
        "    '''Convert SMILES to rdkit.Mol with 3D coordinates'''\n",
        "    mol = Chem.MolFromSmiles(smiles)\n",
        "    if mol is not None:\n",
        "        mol = Chem.AddHs(mol)\n",
        "        AllChem.EmbedMolecule(mol)\n",
        "        AllChem.MMFFOptimizeMolecule(mol, maxIters=200)\n",
        "        return mol\n",
        "    else:\n",
        "        return None"
      ],
      "execution_count": 7,
      "outputs": []
    },
    {
      "cell_type": "code",
      "metadata": {
        "id": "dmh94F77rWyP",
        "colab": {
          "base_uri": "https://localhost:8080/",
          "height": 316
        },
        "outputId": "d5b0e2b6-021e-4e45-ab63-bd8f83391b27"
      },
      "source": [
        "smi = 'COc3nc(OCc2ccc(C#N)c(c1ccc(C(=O)O)cc1)c2P(=O)(O)O)ccc3C[NH2+]CC(I)NC(=O)C(F)(Cl)Br'\n",
        "conf = smi2conf(smi)\n",
        "viewer = MolTo3DView(conf, size=(600, 300), style='stick')\n",
        "viewer.show()"
      ],
      "execution_count": 8,
      "outputs": [
        {
          "output_type": "display_data",
          "data": {
            "application/3dmoljs_load.v0": "<div id=\"3dmolviewer_16112677185738013\"  style=\"position: relative; width: 600px; height: 300px\">\n        <p id=\"3dmolwarning_16112677185738013\" style=\"background-color:#ffcccc;color:black\">You appear to be running in JupyterLab (or JavaScript failed to load for some other reason).  You need to install the 3dmol extension: <br>\n        <tt>jupyter labextension install jupyterlab_3dmol</tt></p>\n        </div>\n<script>\n\nvar loadScriptAsync = function(uri){\n  return new Promise((resolve, reject) => {\n    var tag = document.createElement('script');\n    tag.src = uri;\n    tag.async = true;\n    tag.onload = () => {\n      resolve();\n    };\n  var firstScriptTag = document.getElementsByTagName('script')[0];\n  firstScriptTag.parentNode.insertBefore(tag, firstScriptTag);\n});\n};\n\nif(typeof $3Dmolpromise === 'undefined') {\n$3Dmolpromise = null;\n  $3Dmolpromise = loadScriptAsync('https://3dmol.org/build/3Dmol.js');\n}\n\nvar viewer_16112677185738013 = null;\nvar warn = document.getElementById(\"3dmolwarning_16112677185738013\");\nif(warn) {\n    warn.parentNode.removeChild(warn);\n}\n$3Dmolpromise.then(function() {\nviewer_16112677185738013 = $3Dmol.createViewer($(\"#3dmolviewer_16112677185738013\"),{backgroundColor:\"white\"});\nviewer_16112677185738013.zoomTo();\n\tviewer_16112677185738013.addModel(\"\\n     RDKit          3D\\n\\n 67 69  0  0  0  0  0  0  0  0999 V2000\\n    0.0746   -0.9663    1.5304 C   0  0  0  0  0  0  0  0  0  0  0  0\\n   -1.3400   -0.7728    1.4275 O   0  0  0  0  0  0  0  0  0  0  0  0\\n   -1.7523   -0.4529    0.1471 C   0  0  0  0  0  0  0  0  0  0  0  0\\n   -0.8312   -0.0501   -0.7513 N   0  0  0  0  0  0  0  0  0  0  0  0\\n   -1.2744    0.2806   -1.9791 C   0  0  0  0  0  0  0  0  0  0  0  0\\n   -0.3805    0.7325   -2.9236 O   0  0  0  0  0  0  0  0  0  0  0  0\\n    0.9359    0.1793   -2.7716 C   0  0  0  0  0  0  0  0  0  0  0  0\\n    1.9247    1.1054   -2.0653 C   0  0  0  0  0  0  0  0  0  0  0  0\\n    1.6412    2.4784   -1.9802 C   0  0  0  0  0  0  0  0  0  0  0  0\\n    2.5125    3.3469   -1.3324 C   0  0  0  0  0  0  0  0  0  0  0  0\\n    3.6892    2.8616   -0.7546 C   0  0  0  0  0  0  0  0  0  0  0  0\\n    4.5239    3.8005   -0.0536 C   0  0  0  0  0  0  0  0  0  0  0  0\\n    5.1723    4.5764    0.5153 N   0  0  0  0  0  0  0  0  0  0  0  0\\n    4.0254    1.4864   -0.8400 C   0  0  0  0  0  0  0  0  0  0  0  0\\n    5.2610    1.0025   -0.1983 C   0  0  0  0  0  0  0  0  0  0  0  0\\n    5.2211    0.3776    1.0621 C   0  0  0  0  0  0  0  0  0  0  0  0\\n    6.3965   -0.0768    1.6716 C   0  0  0  0  0  0  0  0  0  0  0  0\\n    7.6315    0.0782    1.0233 C   0  0  0  0  0  0  0  0  0  0  0  0\\n    8.9002   -0.4094    1.6167 C   0  0  0  0  0  0  0  0  0  0  0  0\\n    9.9934   -0.3819    1.0825 O   0  0  0  0  0  0  0  0  0  0  0  0\\n    8.7409   -0.9101    2.8560 O   0  0  0  0  0  0  0  0  0  0  0  0\\n    7.6814    0.7036   -0.2285 C   0  0  0  0  0  0  0  0  0  0  0  0\\n    6.5080    1.1701   -0.8304 C   0  0  0  0  0  0  0  0  0  0  0  0\\n    3.1491    0.5990   -1.5274 C   0  0  0  0  0  0  0  0  0  0  0  0\\n    3.5046   -1.1344   -1.6777 P   0  0  0  0  0  5  0  0  0  0  0  0\\n    2.8415   -2.1083   -0.7473 O   0  0  0  0  0  0  0  0  0  0  0  0\\n    5.0792   -1.4207   -1.7459 O   0  0  0  0  0  0  0  0  0  0  0  0\\n    3.2169   -1.5218   -3.2172 O   0  0  0  0  0  0  0  0  0  0  0  0\\n   -2.6102    0.2593   -2.3386 C   0  0  0  0  0  0  0  0  0  0  0  0\\n   -3.5506   -0.1527   -1.3929 C   0  0  0  0  0  0  0  0  0  0  0  0\\n   -3.1246   -0.5091   -0.1081 C   0  0  0  0  0  0  0  0  0  0  0  0\\n   -4.0969   -0.9391    0.9493 C   0  0  0  0  0  0  0  0  0  0  0  0\\n   -5.0764    0.1313    1.2924 N   0  0  0  0  0  4  0  0  0  0  0  0\\n   -5.8430   -0.0187    2.5743 C   0  0  0  0  0  0  0  0  0  0  0  0\\n   -6.8313   -1.2227    2.5789 C   0  0  0  0  0  0  0  0  0  0  0  0\\n   -7.5539   -1.5342    4.5828 I   0  0  0  0  0  0  0  0  0  0  0  0\\n   -8.0443   -1.0635    1.7903 N   0  0  0  0  0  0  0  0  0  0  0  0\\n   -8.0810   -0.8668    0.4149 C   0  0  0  0  0  0  0  0  0  0  0  0\\n   -7.0415   -0.5410   -0.1719 O   0  0  0  0  0  0  0  0  0  0  0  0\\n   -9.4411   -1.1078   -0.3016 C   0  0  0  0  0  0  0  0  0  0  0  0\\n   -9.4774   -0.5626   -1.5481 F   0  0  0  0  0  0  0  0  0  0  0  0\\n  -10.7516   -0.4298    0.6841 Cl  0  0  0  0  0  0  0  0  0  0  0  0\\n   -9.6341   -3.0421   -0.4115 Br  0  0  0  0  0  0  0  0  0  0  0  0\\n    0.6154   -0.0348    1.3390 H   0  0  0  0  0  0  0  0  0  0  0  0\\n    0.4101   -1.7663    0.8657 H   0  0  0  0  0  0  0  0  0  0  0  0\\n    0.2936   -1.2757    2.5598 H   0  0  0  0  0  0  0  0  0  0  0  0\\n    0.8932   -0.8103   -2.2950 H   0  0  0  0  0  0  0  0  0  0  0  0\\n    1.3065    0.0301   -3.7953 H   0  0  0  0  0  0  0  0  0  0  0  0\\n    0.7242    2.8800   -2.4110 H   0  0  0  0  0  0  0  0  0  0  0  0\\n    2.2611    4.4062   -1.2642 H   0  0  0  0  0  0  0  0  0  0  0  0\\n    4.2744    0.2447    1.5848 H   0  0  0  0  0  0  0  0  0  0  0  0\\n    6.3444   -0.5550    2.6501 H   0  0  0  0  0  0  0  0  0  0  0  0\\n    9.6555   -1.1500    3.1208 H   0  0  0  0  0  0  0  0  0  0  0  0\\n    8.6350    0.8270   -0.7448 H   0  0  0  0  0  0  0  0  0  0  0  0\\n    6.5742    1.6520   -1.8055 H   0  0  0  0  0  0  0  0  0  0  0  0\\n    5.2691   -2.3765   -1.6743 H   0  0  0  0  0  0  0  0  0  0  0  0\\n    3.7075   -0.9541   -3.8418 H   0  0  0  0  0  0  0  0  0  0  0  0\\n   -2.9120    0.5443   -3.3430 H   0  0  0  0  0  0  0  0  0  0  0  0\\n   -4.5993   -0.2011   -1.6826 H   0  0  0  0  0  0  0  0  0  0  0  0\\n   -4.6683   -1.8148    0.6166 H   0  0  0  0  0  0  0  0  0  0  0  0\\n   -3.6049   -1.2076    1.8901 H   0  0  0  0  0  0  0  0  0  0  0  0\\n   -5.7611    0.1655    0.5115 H   0  0  0  0  0  0  0  0  0  0  0  0\\n   -4.5976    1.0440    1.2740 H   0  0  0  0  0  0  0  0  0  0  0  0\\n   -6.3883    0.9237    2.7098 H   0  0  0  0  0  0  0  0  0  0  0  0\\n   -5.0888   -0.1023    3.3642 H   0  0  0  0  0  0  0  0  0  0  0  0\\n   -6.3284   -2.1347    2.2428 H   0  0  0  0  0  0  0  0  0  0  0  0\\n   -8.9040   -1.3951    2.2260 H   0  0  0  0  0  0  0  0  0  0  0  0\\n  1  2  1  0\\n  2  3  1  0\\n  3  4  2  0\\n  4  5  1  0\\n  5  6  1  0\\n  6  7  1  0\\n  7  8  1  0\\n  8  9  2  0\\n  9 10  1  0\\n 10 11  2  0\\n 11 12  1  0\\n 12 13  3  0\\n 11 14  1  0\\n 14 15  1  0\\n 15 16  2  0\\n 16 17  1  0\\n 17 18  2  0\\n 18 19  1  0\\n 19 20  2  0\\n 19 21  1  0\\n 18 22  1  0\\n 22 23  2  0\\n 14 24  2  0\\n 24 25  1  0\\n 25 26  2  0\\n 25 27  1  0\\n 25 28  1  0\\n  5 29  2  0\\n 29 30  1  0\\n 30 31  2  0\\n 31 32  1  0\\n 32 33  1  0\\n 33 34  1  0\\n 34 35  1  0\\n 35 36  1  0\\n 35 37  1  0\\n 37 38  1  0\\n 38 39  2  0\\n 38 40  1  0\\n 40 41  1  0\\n 40 42  1  0\\n 40 43  1  0\\n 23 15  1  0\\n 24  8  1  0\\n 31  3  1  0\\n  1 44  1  0\\n  1 45  1  0\\n  1 46  1  0\\n  7 47  1  0\\n  7 48  1  0\\n  9 49  1  0\\n 10 50  1  0\\n 16 51  1  0\\n 17 52  1  0\\n 21 53  1  0\\n 22 54  1  0\\n 23 55  1  0\\n 27 56  1  0\\n 28 57  1  0\\n 29 58  1  0\\n 30 59  1  0\\n 32 60  1  0\\n 32 61  1  0\\n 33 62  1  0\\n 33 63  1  0\\n 34 64  1  0\\n 34 65  1  0\\n 35 66  1  0\\n 37 67  1  0\\nM  CHG  1  33   1\\nM  END\\n\",\"mol\");\n\tviewer_16112677185738013.setStyle({\"stick\": {}});\n\tviewer_16112677185738013.zoomTo();\nviewer_16112677185738013.render();\n});\n</script>",
            "text/html": [
              "<div id=\"3dmolviewer_16112677185738013\"  style=\"position: relative; width: 600px; height: 300px\">\n",
              "        <p id=\"3dmolwarning_16112677185738013\" style=\"background-color:#ffcccc;color:black\">You appear to be running in JupyterLab (or JavaScript failed to load for some other reason).  You need to install the 3dmol extension: <br>\n",
              "        <tt>jupyter labextension install jupyterlab_3dmol</tt></p>\n",
              "        </div>\n",
              "<script>\n",
              "\n",
              "var loadScriptAsync = function(uri){\n",
              "  return new Promise((resolve, reject) => {\n",
              "    var tag = document.createElement('script');\n",
              "    tag.src = uri;\n",
              "    tag.async = true;\n",
              "    tag.onload = () => {\n",
              "      resolve();\n",
              "    };\n",
              "  var firstScriptTag = document.getElementsByTagName('script')[0];\n",
              "  firstScriptTag.parentNode.insertBefore(tag, firstScriptTag);\n",
              "});\n",
              "};\n",
              "\n",
              "if(typeof $3Dmolpromise === 'undefined') {\n",
              "$3Dmolpromise = null;\n",
              "  $3Dmolpromise = loadScriptAsync('https://3dmol.org/build/3Dmol.js');\n",
              "}\n",
              "\n",
              "var viewer_16112677185738013 = null;\n",
              "var warn = document.getElementById(\"3dmolwarning_16112677185738013\");\n",
              "if(warn) {\n",
              "    warn.parentNode.removeChild(warn);\n",
              "}\n",
              "$3Dmolpromise.then(function() {\n",
              "viewer_16112677185738013 = $3Dmol.createViewer($(\"#3dmolviewer_16112677185738013\"),{backgroundColor:\"white\"});\n",
              "viewer_16112677185738013.zoomTo();\n",
              "\tviewer_16112677185738013.addModel(\"\\n     RDKit          3D\\n\\n 67 69  0  0  0  0  0  0  0  0999 V2000\\n    0.0746   -0.9663    1.5304 C   0  0  0  0  0  0  0  0  0  0  0  0\\n   -1.3400   -0.7728    1.4275 O   0  0  0  0  0  0  0  0  0  0  0  0\\n   -1.7523   -0.4529    0.1471 C   0  0  0  0  0  0  0  0  0  0  0  0\\n   -0.8312   -0.0501   -0.7513 N   0  0  0  0  0  0  0  0  0  0  0  0\\n   -1.2744    0.2806   -1.9791 C   0  0  0  0  0  0  0  0  0  0  0  0\\n   -0.3805    0.7325   -2.9236 O   0  0  0  0  0  0  0  0  0  0  0  0\\n    0.9359    0.1793   -2.7716 C   0  0  0  0  0  0  0  0  0  0  0  0\\n    1.9247    1.1054   -2.0653 C   0  0  0  0  0  0  0  0  0  0  0  0\\n    1.6412    2.4784   -1.9802 C   0  0  0  0  0  0  0  0  0  0  0  0\\n    2.5125    3.3469   -1.3324 C   0  0  0  0  0  0  0  0  0  0  0  0\\n    3.6892    2.8616   -0.7546 C   0  0  0  0  0  0  0  0  0  0  0  0\\n    4.5239    3.8005   -0.0536 C   0  0  0  0  0  0  0  0  0  0  0  0\\n    5.1723    4.5764    0.5153 N   0  0  0  0  0  0  0  0  0  0  0  0\\n    4.0254    1.4864   -0.8400 C   0  0  0  0  0  0  0  0  0  0  0  0\\n    5.2610    1.0025   -0.1983 C   0  0  0  0  0  0  0  0  0  0  0  0\\n    5.2211    0.3776    1.0621 C   0  0  0  0  0  0  0  0  0  0  0  0\\n    6.3965   -0.0768    1.6716 C   0  0  0  0  0  0  0  0  0  0  0  0\\n    7.6315    0.0782    1.0233 C   0  0  0  0  0  0  0  0  0  0  0  0\\n    8.9002   -0.4094    1.6167 C   0  0  0  0  0  0  0  0  0  0  0  0\\n    9.9934   -0.3819    1.0825 O   0  0  0  0  0  0  0  0  0  0  0  0\\n    8.7409   -0.9101    2.8560 O   0  0  0  0  0  0  0  0  0  0  0  0\\n    7.6814    0.7036   -0.2285 C   0  0  0  0  0  0  0  0  0  0  0  0\\n    6.5080    1.1701   -0.8304 C   0  0  0  0  0  0  0  0  0  0  0  0\\n    3.1491    0.5990   -1.5274 C   0  0  0  0  0  0  0  0  0  0  0  0\\n    3.5046   -1.1344   -1.6777 P   0  0  0  0  0  5  0  0  0  0  0  0\\n    2.8415   -2.1083   -0.7473 O   0  0  0  0  0  0  0  0  0  0  0  0\\n    5.0792   -1.4207   -1.7459 O   0  0  0  0  0  0  0  0  0  0  0  0\\n    3.2169   -1.5218   -3.2172 O   0  0  0  0  0  0  0  0  0  0  0  0\\n   -2.6102    0.2593   -2.3386 C   0  0  0  0  0  0  0  0  0  0  0  0\\n   -3.5506   -0.1527   -1.3929 C   0  0  0  0  0  0  0  0  0  0  0  0\\n   -3.1246   -0.5091   -0.1081 C   0  0  0  0  0  0  0  0  0  0  0  0\\n   -4.0969   -0.9391    0.9493 C   0  0  0  0  0  0  0  0  0  0  0  0\\n   -5.0764    0.1313    1.2924 N   0  0  0  0  0  4  0  0  0  0  0  0\\n   -5.8430   -0.0187    2.5743 C   0  0  0  0  0  0  0  0  0  0  0  0\\n   -6.8313   -1.2227    2.5789 C   0  0  0  0  0  0  0  0  0  0  0  0\\n   -7.5539   -1.5342    4.5828 I   0  0  0  0  0  0  0  0  0  0  0  0\\n   -8.0443   -1.0635    1.7903 N   0  0  0  0  0  0  0  0  0  0  0  0\\n   -8.0810   -0.8668    0.4149 C   0  0  0  0  0  0  0  0  0  0  0  0\\n   -7.0415   -0.5410   -0.1719 O   0  0  0  0  0  0  0  0  0  0  0  0\\n   -9.4411   -1.1078   -0.3016 C   0  0  0  0  0  0  0  0  0  0  0  0\\n   -9.4774   -0.5626   -1.5481 F   0  0  0  0  0  0  0  0  0  0  0  0\\n  -10.7516   -0.4298    0.6841 Cl  0  0  0  0  0  0  0  0  0  0  0  0\\n   -9.6341   -3.0421   -0.4115 Br  0  0  0  0  0  0  0  0  0  0  0  0\\n    0.6154   -0.0348    1.3390 H   0  0  0  0  0  0  0  0  0  0  0  0\\n    0.4101   -1.7663    0.8657 H   0  0  0  0  0  0  0  0  0  0  0  0\\n    0.2936   -1.2757    2.5598 H   0  0  0  0  0  0  0  0  0  0  0  0\\n    0.8932   -0.8103   -2.2950 H   0  0  0  0  0  0  0  0  0  0  0  0\\n    1.3065    0.0301   -3.7953 H   0  0  0  0  0  0  0  0  0  0  0  0\\n    0.7242    2.8800   -2.4110 H   0  0  0  0  0  0  0  0  0  0  0  0\\n    2.2611    4.4062   -1.2642 H   0  0  0  0  0  0  0  0  0  0  0  0\\n    4.2744    0.2447    1.5848 H   0  0  0  0  0  0  0  0  0  0  0  0\\n    6.3444   -0.5550    2.6501 H   0  0  0  0  0  0  0  0  0  0  0  0\\n    9.6555   -1.1500    3.1208 H   0  0  0  0  0  0  0  0  0  0  0  0\\n    8.6350    0.8270   -0.7448 H   0  0  0  0  0  0  0  0  0  0  0  0\\n    6.5742    1.6520   -1.8055 H   0  0  0  0  0  0  0  0  0  0  0  0\\n    5.2691   -2.3765   -1.6743 H   0  0  0  0  0  0  0  0  0  0  0  0\\n    3.7075   -0.9541   -3.8418 H   0  0  0  0  0  0  0  0  0  0  0  0\\n   -2.9120    0.5443   -3.3430 H   0  0  0  0  0  0  0  0  0  0  0  0\\n   -4.5993   -0.2011   -1.6826 H   0  0  0  0  0  0  0  0  0  0  0  0\\n   -4.6683   -1.8148    0.6166 H   0  0  0  0  0  0  0  0  0  0  0  0\\n   -3.6049   -1.2076    1.8901 H   0  0  0  0  0  0  0  0  0  0  0  0\\n   -5.7611    0.1655    0.5115 H   0  0  0  0  0  0  0  0  0  0  0  0\\n   -4.5976    1.0440    1.2740 H   0  0  0  0  0  0  0  0  0  0  0  0\\n   -6.3883    0.9237    2.7098 H   0  0  0  0  0  0  0  0  0  0  0  0\\n   -5.0888   -0.1023    3.3642 H   0  0  0  0  0  0  0  0  0  0  0  0\\n   -6.3284   -2.1347    2.2428 H   0  0  0  0  0  0  0  0  0  0  0  0\\n   -8.9040   -1.3951    2.2260 H   0  0  0  0  0  0  0  0  0  0  0  0\\n  1  2  1  0\\n  2  3  1  0\\n  3  4  2  0\\n  4  5  1  0\\n  5  6  1  0\\n  6  7  1  0\\n  7  8  1  0\\n  8  9  2  0\\n  9 10  1  0\\n 10 11  2  0\\n 11 12  1  0\\n 12 13  3  0\\n 11 14  1  0\\n 14 15  1  0\\n 15 16  2  0\\n 16 17  1  0\\n 17 18  2  0\\n 18 19  1  0\\n 19 20  2  0\\n 19 21  1  0\\n 18 22  1  0\\n 22 23  2  0\\n 14 24  2  0\\n 24 25  1  0\\n 25 26  2  0\\n 25 27  1  0\\n 25 28  1  0\\n  5 29  2  0\\n 29 30  1  0\\n 30 31  2  0\\n 31 32  1  0\\n 32 33  1  0\\n 33 34  1  0\\n 34 35  1  0\\n 35 36  1  0\\n 35 37  1  0\\n 37 38  1  0\\n 38 39  2  0\\n 38 40  1  0\\n 40 41  1  0\\n 40 42  1  0\\n 40 43  1  0\\n 23 15  1  0\\n 24  8  1  0\\n 31  3  1  0\\n  1 44  1  0\\n  1 45  1  0\\n  1 46  1  0\\n  7 47  1  0\\n  7 48  1  0\\n  9 49  1  0\\n 10 50  1  0\\n 16 51  1  0\\n 17 52  1  0\\n 21 53  1  0\\n 22 54  1  0\\n 23 55  1  0\\n 27 56  1  0\\n 28 57  1  0\\n 29 58  1  0\\n 30 59  1  0\\n 32 60  1  0\\n 32 61  1  0\\n 33 62  1  0\\n 33 63  1  0\\n 34 64  1  0\\n 34 65  1  0\\n 35 66  1  0\\n 37 67  1  0\\nM  CHG  1  33   1\\nM  END\\n\",\"mol\");\n",
              "\tviewer_16112677185738013.setStyle({\"stick\": {}});\n",
              "\tviewer_16112677185738013.zoomTo();\n",
              "viewer_16112677185738013.render();\n",
              "});\n",
              "</script>"
            ]
          },
          "metadata": {
            "tags": []
          }
        }
      ]
    },
    {
      "cell_type": "code",
      "metadata": {
        "id": "DV4iGr1AreLW"
      },
      "source": [
        ""
      ],
      "execution_count": null,
      "outputs": []
    }
  ]
}